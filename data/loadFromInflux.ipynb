{
 "cells": [
  {
   "cell_type": "code",
   "execution_count": 1,
   "id": "c98fb263-47e8-436b-b387-8d935d374650",
   "metadata": {},
   "outputs": [],
   "source": [
    "from flightsql import FlightSQLClient\n",
    "import pandas as pd\n",
    "import matplotlib.pyplot as plt\n",
    "import seaborn as sns\n",
    "\n",
    "from influxdb_client import InfluxDBClient, Point, Dialect\n",
    "\n",
    "import re\n"
   ]
  },
  {
   "cell_type": "code",
   "execution_count": 12,
   "id": "daaaa742-9446-43ff-877c-a40bceaef563",
   "metadata": {},
   "outputs": [],
   "source": [
    "#Read config file and load data into the variables\n",
    "\n",
    "rx_dict = {\n",
    "    'token': re.compile(r'var token = \"(?P<token>.*)\"\\n'),\n",
    "    'url': re.compile(r'var url = \"(?P<url>.*)\"\\n'),\n",
    "    'org': re.compile(r'var org = \"(?P<org>.*)\"\\n'),\n",
    "    'bucket': re.compile(r'var bucket = \"(?P<bucket>.*)\"\\n'),\n",
    "}\n",
    "\n",
    "def _parse_line(line):\n",
    "    \"\"\"\n",
    "    Do a regex search against all defined regexes and\n",
    "    return the key and match result of the first matching regex\n",
    "\n",
    "    \"\"\"\n",
    "    for key, rx in rx_dict.items():\n",
    "        match = rx.search(line)\n",
    "        if match:\n",
    "            return key, match\n",
    "    # if there are no matches\n",
    "    return None, None\n",
    "\n",
    "\n",
    "\n",
    "filepath = '/root/flexi-pipe/config.go'\n",
    "# open the file and read through it line by line\n",
    "with open(filepath, 'r') as file_object:\n",
    "    line = file_object.readline()\n",
    "    while line:\n",
    "        # at each line check for a match with a regex\n",
    "        key, match = _parse_line(line)\n",
    "\n",
    "        if key == 'token':\n",
    "            token = match.group('token')\n",
    "        elif key == 'url':\n",
    "            url = match.group('url')\n",
    "        elif key == 'org':\n",
    "            org = match.group('org')\n",
    "        elif key == 'bucket':\n",
    "            bucket = match.group('bucket')\n",
    "        \n",
    "        line = file_object.readline()\n",
    "\n",
    "\n",
    "url=\"http://localhost:8086\""
   ]
  },
  {
   "cell_type": "code",
   "execution_count": 14,
   "id": "5e992f58-dc5f-4a39-b297-2a35847ecde7",
   "metadata": {},
   "outputs": [
    {
     "name": "stderr",
     "output_type": "stream",
     "text": [
      "/usr/local/lib/python3.8/dist-packages/influxdb_client/client/warnings.py:31: MissingPivotFunction: The query doesn't contains the pivot() function.\n",
      "\n",
      "The result will not be shaped to optimal processing by pandas.DataFrame. Use the pivot() function by:\n",
      "\n",
      "    \n",
      "from(bucket: \"gs\")\n",
      "|> range(start:-5m, stop: now())\n",
      "|> filter(fn: (r) => r._measurement == \"experiment\") |> pivot(rowKey:[\"_time\"], columnKey: [\"_field\"], valueColumn: \"_value\")\n",
      "\n",
      "You can disable this warning by:\n",
      "    import warnings\n",
      "    from influxdb_client.client.warnings import MissingPivotFunction\n",
      "\n",
      "    warnings.simplefilter(\"ignore\", MissingPivotFunction)\n",
      "\n",
      "For more info see:\n",
      "    - https://docs.influxdata.com/resources/videos/pivots-in-flux/\n",
      "    - https://docs.influxdata.com/flux/latest/stdlib/universe/pivot/\n",
      "    - https://docs.influxdata.com/flux/latest/stdlib/influxdata/influxdb/schema/fieldsascols/\n",
      "\n",
      "  warnings.warn(message, MissingPivotFunction)\n"
     ]
    },
    {
     "data": {
      "text/html": [
       "<div>\n",
       "<style scoped>\n",
       "    .dataframe tbody tr th:only-of-type {\n",
       "        vertical-align: middle;\n",
       "    }\n",
       "\n",
       "    .dataframe tbody tr th {\n",
       "        vertical-align: top;\n",
       "    }\n",
       "\n",
       "    .dataframe thead th {\n",
       "        text-align: right;\n",
       "    }\n",
       "</style>\n",
       "<table border=\"1\" class=\"dataframe\">\n",
       "  <thead>\n",
       "    <tr style=\"text-align: right;\">\n",
       "      <th></th>\n",
       "    </tr>\n",
       "  </thead>\n",
       "  <tbody>\n",
       "  </tbody>\n",
       "</table>\n",
       "</div>"
      ],
      "text/plain": [
       "Empty DataFrame\n",
       "Columns: []\n",
       "Index: []"
      ]
     },
     "metadata": {},
     "output_type": "display_data"
    }
   ],
   "source": [
    "client = InfluxDBClient(url=\"http://localhost:8086\", token=\"my-token\", org=\"my-org\")\n",
    "\n",
    "write_api = client.write_api(write_options=SYNCHRONOUS)\n",
    "query_api = client.query_api()"
   ]
  },
  {
   "cell_type": "code",
   "execution_count": null,
   "id": "f9a93bde-a4b1-4422-a47a-04aa779c9a42",
   "metadata": {},
   "outputs": [],
   "source": [
    "\"\"\"\n",
    "Query: using Pandas DataFrame\n",
    "\"\"\"\n",
    "data_frame = query_api.query_data_frame('from(bucket:\"my-bucket\") '\n",
    "                                        '|> range(start: -10m) '\n",
    "                                        '|> pivot(rowKey:[\"_time\"], columnKey: [\"_field\"], valueColumn: \"_value\") '\n",
    "                                        '|> keep(columns: [\"location\", \"temperature\"])')\n",
    "print(data_frame.to_string())\n",
    "\n",
    "\"\"\"\n",
    "Close client\n",
    "\"\"\"\n",
    "client.close()"
   ]
  }
 ],
 "metadata": {
  "kernelspec": {
   "display_name": "Python 3 (ipykernel)",
   "language": "python",
   "name": "python3"
  },
  "language_info": {
   "codemirror_mode": {
    "name": "ipython",
    "version": 3
   },
   "file_extension": ".py",
   "mimetype": "text/x-python",
   "name": "python",
   "nbconvert_exporter": "python",
   "pygments_lexer": "ipython3",
   "version": "3.7.13"
  }
 },
 "nbformat": 4,
 "nbformat_minor": 5
}
