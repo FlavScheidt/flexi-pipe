{
 "cells": [
  {
   "cell_type": "code",
   "execution_count": 1,
   "id": "f8ca74da-ebdd-44d5-a6c6-ec6dda468183",
   "metadata": {},
   "outputs": [],
   "source": [
    "import pandas as pd\n",
    "import numpy as np\n",
    "\n",
    "from influxdb_client import InfluxDBClient, Point, Dialect\n",
    "\n",
    "import re\n",
    "import time\n",
    "import datetime\n",
    "\n",
    "import warnings\n",
    "from influxdb_client.client.warnings import MissingPivotFunction\n",
    "\n",
    "import matplotlib.pyplot as plt\n",
    "import matplotlib.ticker as ticker\n",
    "import matplotlib.colors as colors\n",
    "\n",
    "import pandasql as ps\n",
    "import sqlite3\n",
    "\n",
    "import csv\n",
    "\n",
    "import warnings \n",
    "from influxdb_client.client.warnings import MissingPivotFunction\n",
    "warnings.simplefilter(\"ignore\", MissingPivotFunction)\n",
    "\n",
    "import gc\n",
    "\n",
    "pd.set_option('display.max_rows', 500)"
   ]
  },
  {
   "cell_type": "code",
   "execution_count": 5,
   "id": "a9b806ab-96ee-412e-8053-e8ce923ea20b",
   "metadata": {},
   "outputs": [
    {
     "data": {
      "text/html": [
       "<div>\n",
       "<style scoped>\n",
       "    .dataframe tbody tr th:only-of-type {\n",
       "        vertical-align: middle;\n",
       "    }\n",
       "\n",
       "    .dataframe tbody tr th {\n",
       "        vertical-align: top;\n",
       "    }\n",
       "\n",
       "    .dataframe thead th {\n",
       "        text-align: right;\n",
       "    }\n",
       "</style>\n",
       "<table border=\"1\" class=\"dataframe\">\n",
       "  <thead>\n",
       "    <tr style=\"text-align: right;\">\n",
       "      <th></th>\n",
       "      <th>identifier</th>\n",
       "      <th>experiment</th>\n",
       "      <th>type</th>\n",
       "      <th>_time</th>\n",
       "      <th>count</th>\n",
       "    </tr>\n",
       "  </thead>\n",
       "  <tbody>\n",
       "    <tr>\n",
       "      <th>0</th>\n",
       "      <td>0</td>\n",
       "      <td>618</td>\n",
       "      <td>11.0</td>\n",
       "      <td>2023-11-16 21:19:03+00:00</td>\n",
       "      <td>76</td>\n",
       "    </tr>\n",
       "    <tr>\n",
       "      <th>1</th>\n",
       "      <td>0</td>\n",
       "      <td>618</td>\n",
       "      <td>11.0</td>\n",
       "      <td>2023-11-16 21:19:04+00:00</td>\n",
       "      <td>1390</td>\n",
       "    </tr>\n",
       "    <tr>\n",
       "      <th>2</th>\n",
       "      <td>0</td>\n",
       "      <td>618</td>\n",
       "      <td>11.0</td>\n",
       "      <td>2023-11-16 21:19:07+00:00</td>\n",
       "      <td>14</td>\n",
       "    </tr>\n",
       "    <tr>\n",
       "      <th>3</th>\n",
       "      <td>0</td>\n",
       "      <td>618</td>\n",
       "      <td>12.0</td>\n",
       "      <td>2023-11-16 21:19:04+00:00</td>\n",
       "      <td>7</td>\n",
       "    </tr>\n",
       "    <tr>\n",
       "      <th>4</th>\n",
       "      <td>0</td>\n",
       "      <td>618</td>\n",
       "      <td>12.0</td>\n",
       "      <td>2023-11-16 21:19:06+00:00</td>\n",
       "      <td>82</td>\n",
       "    </tr>\n",
       "    <tr>\n",
       "      <th>5</th>\n",
       "      <td>0</td>\n",
       "      <td>618</td>\n",
       "      <td>12.0</td>\n",
       "      <td>2023-11-16 21:19:07+00:00</td>\n",
       "      <td>163</td>\n",
       "    </tr>\n",
       "    <tr>\n",
       "      <th>6</th>\n",
       "      <td>0</td>\n",
       "      <td>618</td>\n",
       "      <td>16.0</td>\n",
       "      <td>2023-11-16 21:14:51+00:00</td>\n",
       "      <td>1</td>\n",
       "    </tr>\n",
       "    <tr>\n",
       "      <th>7</th>\n",
       "      <td>0</td>\n",
       "      <td>618</td>\n",
       "      <td>16.0</td>\n",
       "      <td>2023-11-16 21:19:10+00:00</td>\n",
       "      <td>1</td>\n",
       "    </tr>\n",
       "    <tr>\n",
       "      <th>8</th>\n",
       "      <td>0</td>\n",
       "      <td>618</td>\n",
       "      <td>16.0</td>\n",
       "      <td>2023-11-16 21:20:28+00:00</td>\n",
       "      <td>2</td>\n",
       "    </tr>\n",
       "    <tr>\n",
       "      <th>9</th>\n",
       "      <td>0</td>\n",
       "      <td>618</td>\n",
       "      <td>16.0</td>\n",
       "      <td>2023-11-16 21:20:46+00:00</td>\n",
       "      <td>1</td>\n",
       "    </tr>\n",
       "  </tbody>\n",
       "</table>\n",
       "</div>"
      ],
      "text/plain": [
       "   identifier  experiment  type                      _time  count\n",
       "0           0         618  11.0  2023-11-16 21:19:03+00:00     76\n",
       "1           0         618  11.0  2023-11-16 21:19:04+00:00   1390\n",
       "2           0         618  11.0  2023-11-16 21:19:07+00:00     14\n",
       "3           0         618  12.0  2023-11-16 21:19:04+00:00      7\n",
       "4           0         618  12.0  2023-11-16 21:19:06+00:00     82\n",
       "5           0         618  12.0  2023-11-16 21:19:07+00:00    163\n",
       "6           0         618  16.0  2023-11-16 21:14:51+00:00      1\n",
       "7           0         618  16.0  2023-11-16 21:19:10+00:00      1\n",
       "8           0         618  16.0  2023-11-16 21:20:28+00:00      2\n",
       "9           0         618  16.0  2023-11-16 21:20:46+00:00      1"
      ]
     },
     "execution_count": 5,
     "metadata": {},
     "output_type": "execute_result"
    }
   ],
   "source": [
    "data = pd.read_csv('../datasets/timeSeries1s.csv', header=0, index_col=0, low_memory=False)\n",
    "gossip = pd.DataFrame(data)\n",
    "\n",
    "gossip.head(10)"
   ]
  },
  {
   "cell_type": "code",
   "execution_count": 19,
   "id": "62337e6f-6fd5-41da-9f6d-5f7d7268042b",
   "metadata": {},
   "outputs": [
    {
     "name": "stdout",
     "output_type": "stream",
     "text": [
      "1696426715 2023-10-04 13:38:35+00:00\n"
     ]
    },
    {
     "name": "stderr",
     "output_type": "stream",
     "text": [
      "/tmp/ipykernel_43016/1873362235.py:1: UserWarning: The argument 'infer_datetime_format' is deprecated and will be removed in a future version. A strict version of it is now the default, see https://pandas.pydata.org/pdeps/0004-consistent-to-datetime-parsing.html. You can safely remove this argument.\n",
      "  gossip['startUnix'] = pd.to_datetime(gossip[\"_time\"],format=\"mixed\", infer_datetime_format=True).astype('int64') / 10**9\n"
     ]
    }
   ],
   "source": [
    "gossip['startUnix'] = pd.to_datetime(gossip[\"_time\"],format=\"mixed\", infer_datetime_format=True).astype('int64') / 10**9\n",
    "gossip[\"startUnix\"] = pd.to_timedelta(gossip[\"startUnix\"], unit='s').dt.total_seconds().astype(int)\n",
    "# gossip.head(10)\n",
    "\n",
    "min_date = gossip[\"startUnix\"].min()\n",
    "min_time = gossip[\"_time\"].min()\n",
    "\n",
    "print(min_date, min_time)"
   ]
  },
  {
   "cell_type": "code",
   "execution_count": 21,
   "id": "26c4c2dc-565e-4977-9347-77c77e097f23",
   "metadata": {},
   "outputs": [
    {
     "name": "stdout",
     "output_type": "stream",
     "text": [
      "1700624814 2023-11-22 03:46:54+00:00\n"
     ]
    },
    {
     "name": "stderr",
     "output_type": "stream",
     "text": [
      "/tmp/ipykernel_43016/2093431950.py:1: UserWarning: The argument 'infer_datetime_format' is deprecated and will be removed in a future version. A strict version of it is now the default, see https://pandas.pydata.org/pdeps/0004-consistent-to-datetime-parsing.html. You can safely remove this argument.\n",
      "  gossip['endUnix'] = pd.to_datetime(gossip[\"_time\"],format=\"mixed\", infer_datetime_format=True).astype('int64') / 10**9\n"
     ]
    }
   ],
   "source": [
    "gossip['endUnix'] = pd.to_datetime(gossip[\"_time\"],format=\"mixed\", infer_datetime_format=True).astype('int64') / 10**9\n",
    "gossip[\"endUnix\"] = pd.to_timedelta(gossip[\"endUnix\"], unit='s').dt.total_seconds().astype(int)\n",
    "# gossip.head(10)\n",
    "\n",
    "max_date = gossip[\"endUnix\"].max()\n",
    "max_time = gossip[\"_time\"].max()\n",
    "\n",
    "print(max_date, max_time)"
   ]
  },
  {
   "cell_type": "code",
   "execution_count": null,
   "id": "e6da6a60-888b-4e21-9b16-caea22bc367d",
   "metadata": {},
   "outputs": [],
   "source": []
  }
 ],
 "metadata": {
  "kernelspec": {
   "display_name": "Python 3 (ipykernel)",
   "language": "python",
   "name": "python3"
  },
  "language_info": {
   "codemirror_mode": {
    "name": "ipython",
    "version": 3
   },
   "file_extension": ".py",
   "mimetype": "text/x-python",
   "name": "python",
   "nbconvert_exporter": "python",
   "pygments_lexer": "ipython3",
   "version": "3.10.12"
  }
 },
 "nbformat": 4,
 "nbformat_minor": 5
}
