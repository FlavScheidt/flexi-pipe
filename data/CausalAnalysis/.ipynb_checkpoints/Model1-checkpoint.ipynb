{
 "cells": [
  {
   "cell_type": "code",
   "execution_count": 1,
   "id": "7c3023a0-5226-4db4-b46a-9077c318a5b4",
   "metadata": {},
   "outputs": [],
   "source": [
    "import networkx as nx"
   ]
  },
  {
   "cell_type": "code",
   "execution_count": 2,
   "id": "54357ce5-06b8-49ab-9ed8-4c42c0fb6fcc",
   "metadata": {},
   "outputs": [],
   "source": [
    "causal_graph = nx.DiGraph([('D', 'messageReceived'),\n",
    "                           ('D', 'graft'),\n",
    "                           ('D', 'prune'),\n",
    "                           ('D', 'iwant'),\n",
    "                           ('Dlo', 'graft'),\n",
    "                           ('Dhi', 'prune'),\n",
    "                           ('Dscore', 'graft'),\n",
    "                           ('Dscore', 'prune'),\n",
    "                           ('Dlazy', 'iwant'),\n",
    "                           ('Dlazy', 'ihave'),\n",
    "                           ('Dout', 'graft'),\n",
    "                           ('Dout', 'prune'),\n",
    "                           ('gossipFactor', 'iwant'),\n",
    "                           ('gossipFactor', 'ihave'),\n",
    "                           ('interval', 'graft'),\n",
    "                           ('interval', 'prune'),\n",
    "                           ('interval', 'iwant'),\n",
    "                           ('interval', 'ihave'),\n",
    "                           ('topology', 'graft'),\n",
    "                           ('topology', 'prune'),\n",
    "                           ('topology', 'propagationTime'),\n",
    "                           ('topology', 'messageReceived'),\n",
    "                           #Level 1\n",
    "                           ('prune', 'graft'),\n",
    "                           ('prune', 'propagationTime'),\n",
    "                           ('messageReceived', 'MessageOverhead'),\n",
    "                           ('messageOverhead', 'bandwidth'),\n",
    "                           ('iwant', 'bandwidth'),\n",
    "                           ('ihave', 'bandwidth')\n",
    "                         ])"
   ]
  },
  {
   "cell_type": "code",
   "execution_count": null,
   "id": "6c307194-5cc2-476a-9636-ec879737e014",
   "metadata": {},
   "outputs": [],
   "source": []
  }
 ],
 "metadata": {
  "kernelspec": {
   "display_name": "Python 3 (ipykernel)",
   "language": "python",
   "name": "python3"
  },
  "language_info": {
   "codemirror_mode": {
    "name": "ipython",
    "version": 3
   },
   "file_extension": ".py",
   "mimetype": "text/x-python",
   "name": "python",
   "nbconvert_exporter": "python",
   "pygments_lexer": "ipython3",
   "version": "3.7.13"
  }
 },
 "nbformat": 4,
 "nbformat_minor": 5
}
