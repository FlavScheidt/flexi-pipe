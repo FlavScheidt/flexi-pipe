{
 "cells": [
  {
   "cell_type": "code",
   "execution_count": 3,
   "id": "20f374e4-d6b4-464e-8c30-465c95cf3aeb",
   "metadata": {},
   "outputs": [],
   "source": [
    "import pandas as pd\n",
    "from castle.common import GraphDAG\n",
    "from castle.metrics import MetricsDAG\n",
    "from castle.datasets import DAG, IIDSimulation\n",
    "from castle.algorithms import PC\n",
    "from castle.common.priori_knowledge import PrioriKnowledge\n",
    "\n",
    "import networkx as nx\n",
    "from dowhy import gcm\n",
    "import numpy as np\n",
    "import matplotlib.pyplot as plt"
   ]
  },
  {
   "cell_type": "code",
   "execution_count": 4,
   "id": "8238b871-b8a3-4930-be64-467dbd353ffd",
   "metadata": {},
   "outputs": [],
   "source": [
    "#Causal graph\n",
    "causal_graph = nx.DiGraph([('d', 'messageReceived'),\n",
    "                           ('d', 'graft'),\n",
    "                           ('d', 'prune'),\n",
    "                           ('d', 'iwant'),\n",
    "                           ('dlo', 'graft'),\n",
    "                           ('dhi', 'prune'),\n",
    "                           ('dscore', 'graft'),\n",
    "                           ('dscore', 'prune'),\n",
    "                           ('dlazy', 'iwant'),\n",
    "                           ('dlazy', 'ihave'),\n",
    "                           ('dout', 'graft'),\n",
    "                           ('dout', 'prune'),\n",
    "                           ('gossipFactor', 'iwant'),\n",
    "                           ('gossipFactor', 'ihave'),\n",
    "                           ('interval', 'graft'),\n",
    "                           ('interval', 'prune'),\n",
    "                           ('interval', 'iwant'),\n",
    "                           ('interval', 'ihave'),\n",
    "                           ('topology', 'graft'),\n",
    "                           ('topology', 'prune'),\n",
    "                           ('topology', 'propagationTime'),\n",
    "                           ('topology', 'messageReceived'),\n",
    "                           ('prune', 'graft'),\n",
    "                           ('prune', 'propagationTime'),\n",
    "                           ('messageReceived', 'messageOverhead'),\n",
    "                           ('messageOverhead', 'bandwidth'),\n",
    "                           ('iwant', 'bandwidth'),\n",
    "                           ('ihave', 'bandwidth'),\n",
    "                           ('messageReceived', 'bandwidth')\n",
    "                         ])"
   ]
  },
  {
   "cell_type": "code",
   "execution_count": 8,
   "id": "31517ca0-8e61-4e07-849a-39e6a510ce81",
   "metadata": {},
   "outputs": [
    {
     "name": "stdout",
     "output_type": "stream",
     "text": [
      "  (0, 1)\t1\n",
      "  (0, 2)\t1\n",
      "  (0, 3)\t1\n",
      "  (0, 4)\t1\n",
      "  (1, 15)\t1\n",
      "  (1, 16)\t1\n",
      "  (3, 2)\t1\n",
      "  (3, 14)\t1\n",
      "  (4, 16)\t1\n",
      "  (5, 2)\t1\n",
      "  (6, 3)\t1\n",
      "  (7, 2)\t1\n",
      "  (7, 3)\t1\n",
      "  (8, 4)\t1\n",
      "  (8, 9)\t1\n",
      "  (9, 16)\t1\n",
      "  (10, 2)\t1\n",
      "  (10, 3)\t1\n",
      "  (11, 4)\t1\n",
      "  (11, 9)\t1\n",
      "  (12, 2)\t1\n",
      "  (12, 3)\t1\n",
      "  (12, 4)\t1\n",
      "  (12, 9)\t1\n",
      "  (13, 1)\t1\n",
      "  (13, 2)\t1\n",
      "  (13, 3)\t1\n",
      "  (13, 14)\t1\n",
      "  (15, 16)\t1\n"
     ]
    }
   ],
   "source": [
    "#From digraph to adjancency matrix\n",
    "\n",
    "true_causal_matrix = nx.adjacency_matrix(causal_graph)\n",
    "\n",
    "print(true_causal_matrix)"
   ]
  },
  {
   "cell_type": "code",
   "execution_count": null,
   "id": "deec2442-5313-4d1c-8d48-83d6114aa81b",
   "metadata": {},
   "outputs": [],
   "source": []
  }
 ],
 "metadata": {
  "kernelspec": {
   "display_name": "Python 3 (ipykernel)",
   "language": "python",
   "name": "python3"
  },
  "language_info": {
   "codemirror_mode": {
    "name": "ipython",
    "version": 3
   },
   "file_extension": ".py",
   "mimetype": "text/x-python",
   "name": "python",
   "nbconvert_exporter": "python",
   "pygments_lexer": "ipython3",
   "version": "3.7.13"
  }
 },
 "nbformat": 4,
 "nbformat_minor": 5
}
