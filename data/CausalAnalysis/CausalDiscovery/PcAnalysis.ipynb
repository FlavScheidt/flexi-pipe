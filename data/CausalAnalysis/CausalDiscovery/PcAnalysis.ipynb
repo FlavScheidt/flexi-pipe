{
 "cells": [
  {
   "cell_type": "code",
   "execution_count": 3,
   "id": "20f374e4-d6b4-464e-8c30-465c95cf3aeb",
   "metadata": {},
   "outputs": [],
   "source": [
    "import pandas as pd\n",
    "from castle.common import GraphDAG\n",
    "from castle.metrics import MetricsDAG\n",
    "from castle.datasets import DAG, IIDSimulation\n",
    "from castle.algorithms import PC\n",
    "from castle.common.priori_knowledge import PrioriKnowledge\n",
    "\n",
    "import networkx as nx\n",
    "from dowhy import gcm\n",
    "import numpy as np\n",
    "import matplotlib.pyplot as plt"
   ]
  },
  {
   "cell_type": "code",
   "execution_count": 4,
   "id": "8238b871-b8a3-4930-be64-467dbd353ffd",
   "metadata": {},
   "outputs": [],
   "source": [
    "#Causal graph\n",
    "causal_graph = nx.DiGraph([('d', 'messageReceived'),\n",
    "                           ('d', 'graft'),\n",
    "                           ('d', 'prune'),\n",
    "                           ('d', 'iwant'),\n",
    "                           ('dlo', 'graft'),\n",
    "                           ('dhi', 'prune'),\n",
    "                           ('dscore', 'graft'),\n",
    "                           ('dscore', 'prune'),\n",
    "                           ('dlazy', 'iwant'),\n",
    "                           ('dlazy', 'ihave'),\n",
    "                           ('dout', 'graft'),\n",
    "                           ('dout', 'prune'),\n",
    "                           ('gossipFactor', 'iwant'),\n",
    "                           ('gossipFactor', 'ihave'),\n",
    "                           ('interval', 'graft'),\n",
    "                           ('interval', 'prune'),\n",
    "                           ('interval', 'iwant'),\n",
    "                           ('interval', 'ihave'),\n",
    "                           ('topology', 'graft'),\n",
    "                           ('topology', 'prune'),\n",
    "                           ('topology', 'propagationTime'),\n",
    "                           ('topology', 'messageReceived'),\n",
    "                           ('prune', 'graft'),\n",
    "                           ('prune', 'propagationTime'),\n",
    "                           ('messageReceived', 'messageOverhead'),\n",
    "                           ('messageOverhead', 'bandwidth'),\n",
    "                           ('iwant', 'bandwidth'),\n",
    "                           ('ihave', 'bandwidth'),\n",
    "                           ('messageReceived', 'bandwidth')\n",
    "                         ])"
   ]
  },
  {
   "cell_type": "code",
   "execution_count": 18,
   "id": "31517ca0-8e61-4e07-849a-39e6a510ce81",
   "metadata": {},
   "outputs": [
    {
     "name": "stdout",
     "output_type": "stream",
     "text": [
      "[[0. 1. 1. 1. 1. 0. 0. 0. 0. 0. 0. 0. 0. 0. 0. 0. 0.]\n",
      " [0. 0. 0. 0. 0. 0. 0. 0. 0. 0. 0. 0. 0. 0. 0. 1. 1.]\n",
      " [0. 0. 0. 0. 0. 0. 0. 0. 0. 0. 0. 0. 0. 0. 0. 0. 0.]\n",
      " [0. 0. 1. 0. 0. 0. 0. 0. 0. 0. 0. 0. 0. 0. 1. 0. 0.]\n",
      " [0. 0. 0. 0. 0. 0. 0. 0. 0. 0. 0. 0. 0. 0. 0. 0. 1.]\n",
      " [0. 0. 1. 0. 0. 0. 0. 0. 0. 0. 0. 0. 0. 0. 0. 0. 0.]\n",
      " [0. 0. 0. 1. 0. 0. 0. 0. 0. 0. 0. 0. 0. 0. 0. 0. 0.]\n",
      " [0. 0. 1. 1. 0. 0. 0. 0. 0. 0. 0. 0. 0. 0. 0. 0. 0.]\n",
      " [0. 0. 0. 0. 1. 0. 0. 0. 0. 1. 0. 0. 0. 0. 0. 0. 0.]\n",
      " [0. 0. 0. 0. 0. 0. 0. 0. 0. 0. 0. 0. 0. 0. 0. 0. 1.]\n",
      " [0. 0. 1. 1. 0. 0. 0. 0. 0. 0. 0. 0. 0. 0. 0. 0. 0.]\n",
      " [0. 0. 0. 0. 1. 0. 0. 0. 0. 1. 0. 0. 0. 0. 0. 0. 0.]\n",
      " [0. 0. 1. 1. 1. 0. 0. 0. 0. 1. 0. 0. 0. 0. 0. 0. 0.]\n",
      " [0. 1. 1. 1. 0. 0. 0. 0. 0. 0. 0. 0. 0. 0. 1. 0. 0.]\n",
      " [0. 0. 0. 0. 0. 0. 0. 0. 0. 0. 0. 0. 0. 0. 0. 0. 0.]\n",
      " [0. 0. 0. 0. 0. 0. 0. 0. 0. 0. 0. 0. 0. 0. 0. 0. 1.]\n",
      " [0. 0. 0. 0. 0. 0. 0. 0. 0. 0. 0. 0. 0. 0. 0. 0. 0.]]\n"
     ]
    }
   ],
   "source": [
    "#From digraph to adjancency matrix\n",
    "\n",
    "# true_causal_matrix = nx.adjacency_matrix(causal_graph)\n",
    "true_causal_matrix = nx.to_numpy_array(causal_graph)\n",
    "\n",
    "print(true_causal_matrix)"
   ]
  },
  {
   "cell_type": "code",
   "execution_count": 15,
   "id": "deec2442-5313-4d1c-8d48-83d6114aa81b",
   "metadata": {},
   "outputs": [
    {
     "name": "stdout",
     "output_type": "stream",
     "text": [
      "[[8.000e+00 6.000e+00 1.200e+01 4.000e+00 8.000e+00 2.000e+00 2.500e-01\n",
      "  1.000e+00 3.023e+00 2.149e+03 1.262e+06 1.830e+03 1.682e+06 2.425e+05\n",
      "  1.537e+03 1.250e+02 1.700e+01 1.098e+05 0.000e+00]\n",
      " [8.000e+00 6.000e+00 1.200e+01 4.000e+00 8.000e+00 2.000e+00 2.500e-01\n",
      "  3.000e+00 3.026e+00 2.160e+03 1.220e+06 1.606e+03 1.844e+06 1.645e+05\n",
      "  2.137e+03 0.000e+00 1.000e+00 4.868e+03 0.000e+00]\n",
      " [1.600e+01 8.000e+00 2.000e+01 1.600e+01 8.000e+00 4.000e+00 5.000e-01\n",
      "  1.000e+00 3.028e+00 2.009e+03 9.919e+05 1.300e+03 1.428e+06 1.244e+05\n",
      "  2.138e+03 0.000e+00 0.000e+00 7.920e+02 0.000e+00]\n",
      " [1.600e+01 8.000e+00 2.000e+01 1.600e+01 8.000e+00 4.000e+00 5.000e-01\n",
      "  5.000e-01 3.074e+00 6.675e+03 3.889e+05 6.215e+02 7.629e+05 1.561e+05\n",
      "  1.387e+03 1.350e+02 1.200e+01 7.145e+04 0.000e+00]\n",
      " [6.000e+00 4.000e+00 8.000e+00 2.000e+00 2.000e+00 2.000e+00 2.500e-01\n",
      "  1.000e+00 3.039e+00 3.089e+03 8.594e+05 1.363e+03 1.778e+06 3.519e+05\n",
      "  1.469e+03 3.080e+02 4.600e+01 1.418e+05 0.000e+00]\n",
      " [6.000e+00 4.000e+00 8.000e+00 2.000e+00 2.000e+00 4.000e+00 2.500e-01\n",
      "  5.000e-01 3.014e+00 2.097e+03 3.912e+05 5.922e+02 8.708e+05 1.512e+05\n",
      "  2.136e+03 0.000e+00 2.000e+00 4.869e+03 0.000e+00]\n",
      " [2.000e+01 1.600e+01 2.400e+01 8.000e+00 1.600e+01 8.000e+00 5.000e-01\n",
      "  1.000e+00 3.030e+00 2.014e+03 1.063e+06 1.430e+03 1.999e+06 2.054e+05\n",
      "  2.134e+03 0.000e+00 0.000e+00 9.774e+03 0.000e+00]\n",
      " [1.600e+01 8.000e+00 2.000e+01 4.000e+00 8.000e+00 2.000e+00 5.000e-01\n",
      "  1.000e+00 3.021e+00 2.353e+03 1.348e+06 1.785e+03 2.013e+06 1.987e+05\n",
      "  1.819e+03 0.000e+00 1.400e+01 8.629e+03 0.000e+00]\n",
      " [1.600e+01 8.000e+00 2.000e+01 8.000e+00 8.000e+00 4.000e+00 2.500e-01\n",
      "  1.000e+00 3.026e+00 1.903e+03 9.525e+05 1.281e+03 1.957e+06 2.170e+05\n",
      "  2.138e+03 0.000e+00 1.000e+00 9.194e+03 0.000e+00]\n",
      " [1.600e+01 8.000e+00 2.000e+01 4.000e+00 8.000e+00 2.000e+00 2.500e-01\n",
      "  1.000e+00 3.044e+00 1.963e+03 8.098e+05 1.167e+03 1.008e+06 1.089e+05\n",
      "  1.777e+03 1.400e+01 2.300e+01 1.858e+05 0.000e+00]\n",
      " [8.000e+00 6.000e+00 1.600e+01 4.000e+00 8.000e+00 2.000e+00 2.500e-01\n",
      "  1.000e+00 3.049e+00 2.101e+03 1.101e+06 1.515e+03 1.440e+06 1.375e+05\n",
      "  1.739e+03 2.800e+01 2.600e+01 1.333e+05 0.000e+00]\n",
      " [8.000e+00 6.000e+00 1.600e+01 4.000e+00 8.000e+00 2.000e+00 2.500e-01\n",
      "  2.500e-01 3.056e+00 1.887e+03 4.447e+05 6.701e+02 1.269e+06 2.056e+05\n",
      "  1.888e+03 0.000e+00 1.100e+01 7.943e+04 0.000e+00]\n",
      " [1.600e+01 8.000e+00 2.000e+01 6.000e+00 8.000e+00 2.000e+00 2.500e-01\n",
      "  1.000e+00 3.033e+00 1.895e+03 9.617e+05 1.372e+03 1.541e+06 2.057e+05\n",
      "  1.815e+03 1.000e+00 2.000e+01 1.056e+05 0.000e+00]\n",
      " [1.000e+01 8.000e+00 1.600e+01 4.000e+00 8.000e+00 4.000e+00 2.500e-01\n",
      "  1.000e+00 3.057e+00 1.800e+03 1.260e+06 1.820e+03 1.709e+06 2.205e+05\n",
      "  1.734e+03 0.000e+00 3.100e+01 1.792e+05 0.000e+00]\n",
      " [8.000e+00 6.000e+00 1.200e+01 4.000e+00 8.000e+00 2.000e+00 2.500e-01\n",
      "  1.000e+00 3.027e+00 1.464e+03 5.102e+05 7.636e+02 1.136e+06 1.623e+05\n",
      "  2.970e+02 3.300e+01 1.800e+01 1.452e+05 1.000e+00]\n",
      " [8.000e+00 6.000e+00 1.200e+01 4.000e+00 8.000e+00 2.000e+00 2.500e-01\n",
      "  3.000e+00 3.039e+00 1.358e+03 9.628e+05 1.300e+03 1.846e+06 1.427e+05\n",
      "  4.320e+02 2.200e+01 4.000e+01 2.306e+05 1.000e+00]\n",
      " [1.600e+01 8.000e+00 2.000e+01 1.600e+01 8.000e+00 4.000e+00 5.000e-01\n",
      "  1.000e+00 3.023e+00 1.599e+03 1.251e+06 1.585e+03 3.117e+06 2.003e+05\n",
      "  4.640e+02 2.300e+01 2.000e+01 9.062e+04 1.000e+00]\n",
      " [1.600e+01 8.000e+00 2.000e+01 1.600e+01 8.000e+00 4.000e+00 5.000e-01\n",
      "  5.000e-01 3.020e+00 1.595e+03 1.482e+05 2.513e+02 3.840e+05 8.069e+04\n",
      "  3.320e+02 1.280e+02 8.000e+00 4.046e+04 1.000e+00]\n",
      " [6.000e+00 4.000e+00 8.000e+00 2.000e+00 2.000e+00 2.000e+00 2.500e-01\n",
      "  1.000e+00 3.019e+00 2.617e+03 1.832e+05 2.905e+02 3.486e+05 6.746e+04\n",
      "  3.090e+02 1.050e+02 1.000e+01 5.504e+04 1.000e+00]\n",
      " [6.000e+00 4.000e+00 8.000e+00 2.000e+00 2.000e+00 4.000e+00 2.500e-01\n",
      "  5.000e-01 3.028e+00 1.692e+03 1.618e+05 2.196e+02 3.938e+05 4.544e+04\n",
      "  5.380e+02 0.000e+00 0.000e+00 6.000e+00 1.000e+00]\n",
      " [2.000e+01 1.600e+01 2.400e+01 8.000e+00 1.600e+01 8.000e+00 5.000e-01\n",
      "  1.000e+00 3.025e+00 1.503e+03 4.608e+05 6.292e+02 1.089e+06 8.784e+04\n",
      "  4.750e+02 5.000e+00 1.100e+01 7.822e+04 1.000e+00]\n",
      " [1.600e+01 8.000e+00 2.000e+01 4.000e+00 8.000e+00 2.000e+00 5.000e-01\n",
      "  1.000e+00 3.023e+00 1.977e+03 8.696e+05 1.142e+03 1.726e+06 1.221e+05\n",
      "  4.620e+02 4.500e+01 1.800e+01 1.677e+05 1.000e+00]\n",
      " [1.600e+01 8.000e+00 2.000e+01 8.000e+00 8.000e+00 4.000e+00 2.500e-01\n",
      "  1.000e+00 3.023e+00 1.930e+03 6.356e+05 8.484e+02 1.335e+06 1.077e+05\n",
      "  4.620e+02 6.600e+01 1.800e+01 1.570e+05 1.000e+00]\n",
      " [1.600e+01 8.000e+00 2.000e+01 4.000e+00 8.000e+00 2.000e+00 2.500e-01\n",
      "  1.000e+00 3.020e+00 1.830e+03 4.967e+05 7.583e+02 1.082e+06 1.115e+05\n",
      "  3.380e+02 3.000e+01 3.800e+01 3.332e+05 1.000e+00]\n",
      " [8.000e+00 6.000e+00 1.600e+01 4.000e+00 8.000e+00 2.000e+00 2.500e-01\n",
      "  1.000e+00 3.030e+00 1.534e+03 7.046e+05 1.034e+03 1.251e+06 1.288e+05\n",
      "  3.310e+02 2.900e+01 5.600e+01 2.912e+05 1.000e+00]\n",
      " [8.000e+00 6.000e+00 1.600e+01 4.000e+00 8.000e+00 2.000e+00 2.500e-01\n",
      "  2.500e-01 3.028e+00 2.918e+03 3.357e+04 5.456e+01 9.077e+04 2.123e+04\n",
      "  3.270e+02 0.000e+00 5.000e+00 2.000e+01 1.000e+00]\n",
      " [1.600e+01 8.000e+00 2.000e+01 6.000e+00 8.000e+00 2.000e+00 2.500e-01\n",
      "  1.000e+00 3.053e+00 1.531e+03 1.558e+05 2.247e+02 3.614e+05 4.535e+04\n",
      "  3.980e+02 3.700e+01 3.000e+00 3.990e+04 1.000e+00]\n",
      " [1.000e+01 8.000e+00 1.600e+01 4.000e+00 8.000e+00 4.000e+00 2.500e-01\n",
      "  1.000e+00 3.024e+00 1.093e+03 1.998e+05 2.842e+02 4.578e+05 5.567e+04\n",
      "  3.990e+02 4.600e+01 6.000e+00 3.246e+04 1.000e+00]]\n"
     ]
    }
   ],
   "source": [
    "#Treat dataset\n",
    "\n",
    "#Import data \n",
    "data = pd.read_csv('../datasets/consolidated.csv',header=0, index_col=0)\n",
    "consolidated = pd.DataFrame(data)\n",
    "\n",
    "consolidated = consolidated.drop(columns=['identifier', 'n_nodes'])\n",
    "consolidated = consolidated.rename(columns={'topology':'top'})\n",
    "consolidated['topology'] = 0\n",
    "consolidated.loc[consolidated['top'] == 'general', 'topology'] = 1\n",
    "consolidated = consolidated.drop(columns=['top'])\n",
    "# consolidated.head(100)\n",
    "\n",
    "X = consolidated.to_numpy()\n",
    "print(X)"
   ]
  },
  {
   "cell_type": "code",
   "execution_count": 19,
   "id": "2bcb3eaf-9c3e-4f62-b676-9b8c6c68b9de",
   "metadata": {},
   "outputs": [
    {
     "data": {
      "image/png": "[encoded data removed]",
      "text/plain": [
       "<Figure size 800x300 with 4 Axes>"
      ]
     },
     "metadata": {},
     "output_type": "display_data"
    },
    {
     "ename": "IndexError",
     "evalue": "index 17 is out of bounds for axis 0 with size 17",
     "output_type": "error",
     "traceback": [
      "\u001b[0;31m---------------------------------------------------------------------------\u001b[0m",
      "\u001b[0;31mIndexError\u001b[0m                                Traceback (most recent call last)",
      "\u001b[0;32m/tmp/ipykernel_8832/332667776.py\u001b[0m in \u001b[0;36m<module>\u001b[0;34m\u001b[0m\n\u001b[1;32m      7\u001b[0m \u001b[0;34m\u001b[0m\u001b[0m\n\u001b[1;32m      8\u001b[0m \u001b[0;31m# calculate metrics\u001b[0m\u001b[0;34m\u001b[0m\u001b[0;34m\u001b[0m\u001b[0;34m\u001b[0m\u001b[0m\n\u001b[0;32m----> 9\u001b[0;31m \u001b[0mmt\u001b[0m \u001b[0;34m=\u001b[0m \u001b[0mMetricsDAG\u001b[0m\u001b[0;34m(\u001b[0m\u001b[0mpc\u001b[0m\u001b[0;34m.\u001b[0m\u001b[0mcausal_matrix\u001b[0m\u001b[0;34m,\u001b[0m \u001b[0mtrue_causal_matrix\u001b[0m\u001b[0;34m)\u001b[0m\u001b[0;34m\u001b[0m\u001b[0;34m\u001b[0m\u001b[0m\n\u001b[0m\u001b[1;32m     10\u001b[0m \u001b[0mprint\u001b[0m\u001b[0;34m(\u001b[0m\u001b[0mmt\u001b[0m\u001b[0;34m.\u001b[0m\u001b[0mmetrics\u001b[0m\u001b[0;34m)\u001b[0m\u001b[0;34m\u001b[0m\u001b[0;34m\u001b[0m\u001b[0m\n",
      "\u001b[0;32m~/anaconda3/lib/python3.7/site-packages/castle/metrics/evaluation.py\u001b[0m in \u001b[0;36m__init__\u001b[0;34m(self, B_est, B_true)\u001b[0m\n\u001b[1;32m     57\u001b[0m         \u001b[0mself\u001b[0m\u001b[0;34m.\u001b[0m\u001b[0mB_true\u001b[0m \u001b[0;34m=\u001b[0m \u001b[0mcopy\u001b[0m\u001b[0;34m.\u001b[0m\u001b[0mdeepcopy\u001b[0m\u001b[0;34m(\u001b[0m\u001b[0mB_true\u001b[0m\u001b[0;34m)\u001b[0m\u001b[0;34m\u001b[0m\u001b[0;34m\u001b[0m\u001b[0m\n\u001b[1;32m     58\u001b[0m \u001b[0;34m\u001b[0m\u001b[0m\n\u001b[0;32m---> 59\u001b[0;31m         \u001b[0mself\u001b[0m\u001b[0;34m.\u001b[0m\u001b[0mmetrics\u001b[0m \u001b[0;34m=\u001b[0m \u001b[0mMetricsDAG\u001b[0m\u001b[0;34m.\u001b[0m\u001b[0m_count_accuracy\u001b[0m\u001b[0;34m(\u001b[0m\u001b[0mself\u001b[0m\u001b[0;34m.\u001b[0m\u001b[0mB_est\u001b[0m\u001b[0;34m,\u001b[0m \u001b[0mself\u001b[0m\u001b[0;34m.\u001b[0m\u001b[0mB_true\u001b[0m\u001b[0;34m)\u001b[0m\u001b[0;34m\u001b[0m\u001b[0;34m\u001b[0m\u001b[0m\n\u001b[0m\u001b[1;32m     60\u001b[0m \u001b[0;34m\u001b[0m\u001b[0m\n\u001b[1;32m     61\u001b[0m     \u001b[0;34m@\u001b[0m\u001b[0mstaticmethod\u001b[0m\u001b[0;34m\u001b[0m\u001b[0;34m\u001b[0m\u001b[0m\n",
      "\u001b[0;32m~/anaconda3/lib/python3.7/site-packages/castle/metrics/evaluation.py\u001b[0m in \u001b[0;36m_count_accuracy\u001b[0;34m(B_est, B_true, decimal_num)\u001b[0m\n\u001b[1;32m     98\u001b[0m             \u001b[0;32mif\u001b[0m \u001b[0mB_est\u001b[0m\u001b[0;34m[\u001b[0m\u001b[0mi\u001b[0m\u001b[0;34m,\u001b[0m \u001b[0mi\u001b[0m\u001b[0;34m]\u001b[0m \u001b[0;34m==\u001b[0m \u001b[0;36m1\u001b[0m\u001b[0;34m:\u001b[0m\u001b[0;34m\u001b[0m\u001b[0;34m\u001b[0m\u001b[0m\n\u001b[1;32m     99\u001b[0m                 \u001b[0mB_est\u001b[0m\u001b[0;34m[\u001b[0m\u001b[0mi\u001b[0m\u001b[0;34m,\u001b[0m \u001b[0mi\u001b[0m\u001b[0;34m]\u001b[0m \u001b[0;34m=\u001b[0m \u001b[0;36m0\u001b[0m\u001b[0;34m\u001b[0m\u001b[0;34m\u001b[0m\u001b[0m\n\u001b[0;32m--> 100\u001b[0;31m             \u001b[0;32mif\u001b[0m \u001b[0mB_true\u001b[0m\u001b[0;34m[\u001b[0m\u001b[0mi\u001b[0m\u001b[0;34m,\u001b[0m \u001b[0mi\u001b[0m\u001b[0;34m]\u001b[0m \u001b[0;34m==\u001b[0m \u001b[0;36m1\u001b[0m\u001b[0;34m:\u001b[0m\u001b[0;34m\u001b[0m\u001b[0;34m\u001b[0m\u001b[0m\n\u001b[0m\u001b[1;32m    101\u001b[0m                 \u001b[0mB_true\u001b[0m\u001b[0;34m[\u001b[0m\u001b[0mi\u001b[0m\u001b[0;34m,\u001b[0m \u001b[0mi\u001b[0m\u001b[0;34m]\u001b[0m \u001b[0;34m=\u001b[0m \u001b[0;36m0\u001b[0m\u001b[0;34m\u001b[0m\u001b[0;34m\u001b[0m\u001b[0m\n\u001b[1;32m    102\u001b[0m \u001b[0;34m\u001b[0m\u001b[0m\n",
      "\u001b[0;31mIndexError\u001b[0m: index 17 is out of bounds for axis 0 with size 17"
     ]
    }
   ],
   "source": [
    "# structure learning\n",
    "pc = PC()\n",
    "pc.learn(X)\n",
    "\n",
    "# plot predict_dag and true_dag\n",
    "GraphDAG(pc.causal_matrix, true_causal_matrix, 'result')\n",
    "\n",
    "# calculate metrics\n",
    "mt = MetricsDAG(pc.causal_matrix, true_causal_matrix)\n",
    "print(mt.metrics)"
   ]
  },
  {
   "cell_type": "code",
   "execution_count": null,
   "id": "6e48b6da-8883-496d-b04f-806bb83bf944",
   "metadata": {},
   "outputs": [],
   "source": []
  }
 ],
 "metadata": {
  "kernelspec": {
   "display_name": "Python 3 (ipykernel)",
   "language": "python",
   "name": "python3"
  },
  "language_info": {
   "codemirror_mode": {
    "name": "ipython",
    "version": 3
   },
   "file_extension": ".py",
   "mimetype": "text/x-python",
   "name": "python",
   "nbconvert_exporter": "python",
   "pygments_lexer": "ipython3",
   "version": "3.7.13"
  }
 },
 "nbformat": 4,
 "nbformat_minor": 5
}
