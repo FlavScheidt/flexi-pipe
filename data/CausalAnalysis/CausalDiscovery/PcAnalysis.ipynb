{
 "cells": [
  {
   "cell_type": "code",
   "execution_count": 13,
   "id": "20f374e4-d6b4-464e-8c30-465c95cf3aeb",
   "metadata": {
    "tags": []
   },
   "outputs": [],
   "source": [
    "import pandas as pd\n",
    "from castle.common import GraphDAG\n",
    "from castle.metrics import MetricsDAG\n",
    "from castle.datasets import DAG, IIDSimulation\n",
    "from castle.algorithms import PC\n",
    "from castle.common.priori_knowledge import PrioriKnowledge\n",
    "\n",
    "import networkx as nx\n",
    "from dowhy import gcm\n",
    "import numpy as np\n",
    "import matplotlib.pyplot as plt"
   ]
  },
  {
   "cell_type": "code",
   "execution_count": 14,
   "id": "8238b871-b8a3-4930-be64-467dbd353ffd",
   "metadata": {
    "tags": []
   },
   "outputs": [],
   "source": [
    "#Causal graph\n",
    "causal_graph = nx.DiGraph([('d', 'messageReceived'),\n",
    "                           ('d', 'graft'),\n",
    "                           ('d', 'prune'),\n",
    "                           ('d', 'iwant'),\n",
    "                           ('dlo', 'graft'),\n",
    "                           ('dhi', 'prune'),\n",
    "                           ('dscore', 'graft'),\n",
    "                           ('dscore', 'prune'),\n",
    "                           ('dlazy', 'iwant'),\n",
    "                           ('dlazy', 'ihave'),\n",
    "                           ('dout', 'graft'),\n",
    "                           ('dout', 'prune'),\n",
    "                           ('gossipFactor', 'iwant'),\n",
    "                           ('gossipFactor', 'ihave'),\n",
    "                           ('interval', 'graft'),\n",
    "                           ('interval', 'prune'),\n",
    "                           ('interval', 'iwant'),\n",
    "                           ('interval', 'ihave'),\n",
    "                           ('topology', 'graft'),\n",
    "                           ('topology', 'prune'),\n",
    "                           ('topology', 'propagationTime'),\n",
    "                           ('topology', 'messageReceived'),\n",
    "                           ('prune', 'graft'),\n",
    "                           ('prune', 'propagationTime'),\n",
    "                           ('messageReceived', 'messageOverhead'),\n",
    "                           ('messageOverhead', 'bandwidth'),\n",
    "                           ('iwant', 'bandwidth'),\n",
    "                           ('ihave', 'bandwidth'),\n",
    "                           ('messageReceived', 'bandwidth')\n",
    "                         ])"
   ]
  },
  {
   "cell_type": "code",
   "execution_count": 15,
   "id": "31517ca0-8e61-4e07-849a-39e6a510ce81",
   "metadata": {
    "tags": []
   },
   "outputs": [
    {
     "name": "stdout",
     "output_type": "stream",
     "text": [
      "[[0. 1. 1. 1. 1. 0. 0. 0. 0. 0. 0. 0. 0. 0. 0. 0. 0.]\n",
      " [0. 0. 0. 0. 0. 0. 0. 0. 0. 0. 0. 0. 0. 0. 0. 1. 1.]\n",
      " [0. 0. 0. 0. 0. 0. 0. 0. 0. 0. 0. 0. 0. 0. 0. 0. 0.]\n",
      " [0. 0. 1. 0. 0. 0. 0. 0. 0. 0. 0. 0. 0. 0. 1. 0. 0.]\n",
      " [0. 0. 0. 0. 0. 0. 0. 0. 0. 0. 0. 0. 0. 0. 0. 0. 1.]\n",
      " [0. 0. 1. 0. 0. 0. 0. 0. 0. 0. 0. 0. 0. 0. 0. 0. 0.]\n",
      " [0. 0. 0. 1. 0. 0. 0. 0. 0. 0. 0. 0. 0. 0. 0. 0. 0.]\n",
      " [0. 0. 1. 1. 0. 0. 0. 0. 0. 0. 0. 0. 0. 0. 0. 0. 0.]\n",
      " [0. 0. 0. 0. 1. 0. 0. 0. 0. 1. 0. 0. 0. 0. 0. 0. 0.]\n",
      " [0. 0. 0. 0. 0. 0. 0. 0. 0. 0. 0. 0. 0. 0. 0. 0. 1.]\n",
      " [0. 0. 1. 1. 0. 0. 0. 0. 0. 0. 0. 0. 0. 0. 0. 0. 0.]\n",
      " [0. 0. 0. 0. 1. 0. 0. 0. 0. 1. 0. 0. 0. 0. 0. 0. 0.]\n",
      " [0. 0. 1. 1. 1. 0. 0. 0. 0. 1. 0. 0. 0. 0. 0. 0. 0.]\n",
      " [0. 1. 1. 1. 0. 0. 0. 0. 0. 0. 0. 0. 0. 0. 1. 0. 0.]\n",
      " [0. 0. 0. 0. 0. 0. 0. 0. 0. 0. 0. 0. 0. 0. 0. 0. 0.]\n",
      " [0. 0. 0. 0. 0. 0. 0. 0. 0. 0. 0. 0. 0. 0. 0. 0. 1.]\n",
      " [0. 0. 0. 0. 0. 0. 0. 0. 0. 0. 0. 0. 0. 0. 0. 0. 0.]]\n",
      "['d', 'messageReceived', 'graft', 'prune', 'iwant', 'dlo', 'dhi', 'dscore', 'dlazy', 'ihave', 'dout', 'gossipFactor', 'interval', 'topology', 'propagationTime', 'messageOverhead', 'bandwidth']\n"
     ]
    }
   ],
   "source": [
    "#From digraph to adjancency matrix\n",
    "\n",
    "# true_causal_matrix = nx.adjacency_matrix(causal_graph)\n",
    "true_causal_matrix = nx.to_numpy_array(causal_graph)\n",
    "\n",
    "print(true_causal_matrix)\n",
    "print(causal_graph.nodes)"
   ]
  },
  {
   "cell_type": "code",
   "execution_count": 16,
   "id": "deec2442-5313-4d1c-8d48-83d6114aa81b",
   "metadata": {
    "tags": []
   },
   "outputs": [
    {
     "ename": "KeyError",
     "evalue": "\"['messageDuplicated'] not found in axis\"",
     "output_type": "error",
     "traceback": [
      "\u001b[0;31m---------------------------------------------------------------------------\u001b[0m",
      "\u001b[0;31mKeyError\u001b[0m                                  Traceback (most recent call last)",
      "Cell \u001b[0;32mIn[16], line 8\u001b[0m\n\u001b[1;32m      5\u001b[0m data \u001b[38;5;241m=\u001b[39m pd\u001b[38;5;241m.\u001b[39mread_csv(\u001b[38;5;124m'\u001b[39m\u001b[38;5;124m../datasets/experiments.csv\u001b[39m\u001b[38;5;124m'\u001b[39m,header\u001b[38;5;241m=\u001b[39m\u001b[38;5;241m0\u001b[39m, index_col\u001b[38;5;241m=\u001b[39m\u001b[38;5;241m0\u001b[39m)\n\u001b[1;32m      6\u001b[0m consolidated \u001b[38;5;241m=\u001b[39m pd\u001b[38;5;241m.\u001b[39mDataFrame(data)\n\u001b[0;32m----> 8\u001b[0m consolidated \u001b[38;5;241m=\u001b[39m consolidated\u001b[38;5;241m.\u001b[39mdrop(columns\u001b[38;5;241m=\u001b[39m[\u001b[38;5;124m'\u001b[39m\u001b[38;5;124midentifier\u001b[39m\u001b[38;5;124m'\u001b[39m, \u001b[38;5;124m'\u001b[39m\u001b[38;5;124mn_nodes\u001b[39m\u001b[38;5;124m'\u001b[39m, \u001b[38;5;124m'\u001b[39m\u001b[38;5;124mconsensus\u001b[39m\u001b[38;5;124m'\u001b[39m, \u001b[38;5;124m'\u001b[39m\u001b[38;5;124mmessageDuplicated\u001b[39m\u001b[38;5;124m'\u001b[39m])\n\u001b[1;32m      9\u001b[0m consolidated \u001b[38;5;241m=\u001b[39m consolidated\u001b[38;5;241m.\u001b[39mrename(columns\u001b[38;5;241m=\u001b[39m{\u001b[38;5;124m'\u001b[39m\u001b[38;5;124mtopology\u001b[39m\u001b[38;5;124m'\u001b[39m:\u001b[38;5;124m'\u001b[39m\u001b[38;5;124mtop\u001b[39m\u001b[38;5;124m'\u001b[39m})\n\u001b[1;32m     10\u001b[0m consolidated[\u001b[38;5;124m'\u001b[39m\u001b[38;5;124mtopology\u001b[39m\u001b[38;5;124m'\u001b[39m] \u001b[38;5;241m=\u001b[39m \u001b[38;5;241m0\u001b[39m\n",
      "File \u001b[0;32m~/anaconda3/lib/python3.11/site-packages/pandas/core/frame.py:5258\u001b[0m, in \u001b[0;36mDataFrame.drop\u001b[0;34m(self, labels, axis, index, columns, level, inplace, errors)\u001b[0m\n\u001b[1;32m   5110\u001b[0m \u001b[38;5;28;01mdef\u001b[39;00m \u001b[38;5;21mdrop\u001b[39m(\n\u001b[1;32m   5111\u001b[0m     \u001b[38;5;28mself\u001b[39m,\n\u001b[1;32m   5112\u001b[0m     labels: IndexLabel \u001b[38;5;241m=\u001b[39m \u001b[38;5;28;01mNone\u001b[39;00m,\n\u001b[0;32m   (...)\u001b[0m\n\u001b[1;32m   5119\u001b[0m     errors: IgnoreRaise \u001b[38;5;241m=\u001b[39m \u001b[38;5;124m\"\u001b[39m\u001b[38;5;124mraise\u001b[39m\u001b[38;5;124m\"\u001b[39m,\n\u001b[1;32m   5120\u001b[0m ) \u001b[38;5;241m-\u001b[39m\u001b[38;5;241m>\u001b[39m DataFrame \u001b[38;5;241m|\u001b[39m \u001b[38;5;28;01mNone\u001b[39;00m:\n\u001b[1;32m   5121\u001b[0m \u001b[38;5;250m    \u001b[39m\u001b[38;5;124;03m\"\"\"\u001b[39;00m\n\u001b[1;32m   5122\u001b[0m \u001b[38;5;124;03m    Drop specified labels from rows or columns.\u001b[39;00m\n\u001b[1;32m   5123\u001b[0m \n\u001b[0;32m   (...)\u001b[0m\n\u001b[1;32m   5256\u001b[0m \u001b[38;5;124;03m            weight  1.0     0.8\u001b[39;00m\n\u001b[1;32m   5257\u001b[0m \u001b[38;5;124;03m    \"\"\"\u001b[39;00m\n\u001b[0;32m-> 5258\u001b[0m     \u001b[38;5;28;01mreturn\u001b[39;00m \u001b[38;5;28msuper\u001b[39m()\u001b[38;5;241m.\u001b[39mdrop(\n\u001b[1;32m   5259\u001b[0m         labels\u001b[38;5;241m=\u001b[39mlabels,\n\u001b[1;32m   5260\u001b[0m         axis\u001b[38;5;241m=\u001b[39maxis,\n\u001b[1;32m   5261\u001b[0m         index\u001b[38;5;241m=\u001b[39mindex,\n\u001b[1;32m   5262\u001b[0m         columns\u001b[38;5;241m=\u001b[39mcolumns,\n\u001b[1;32m   5263\u001b[0m         level\u001b[38;5;241m=\u001b[39mlevel,\n\u001b[1;32m   5264\u001b[0m         inplace\u001b[38;5;241m=\u001b[39minplace,\n\u001b[1;32m   5265\u001b[0m         errors\u001b[38;5;241m=\u001b[39merrors,\n\u001b[1;32m   5266\u001b[0m     )\n",
      "File \u001b[0;32m~/anaconda3/lib/python3.11/site-packages/pandas/core/generic.py:4549\u001b[0m, in \u001b[0;36mNDFrame.drop\u001b[0;34m(self, labels, axis, index, columns, level, inplace, errors)\u001b[0m\n\u001b[1;32m   4547\u001b[0m \u001b[38;5;28;01mfor\u001b[39;00m axis, labels \u001b[38;5;129;01min\u001b[39;00m axes\u001b[38;5;241m.\u001b[39mitems():\n\u001b[1;32m   4548\u001b[0m     \u001b[38;5;28;01mif\u001b[39;00m labels \u001b[38;5;129;01mis\u001b[39;00m \u001b[38;5;129;01mnot\u001b[39;00m \u001b[38;5;28;01mNone\u001b[39;00m:\n\u001b[0;32m-> 4549\u001b[0m         obj \u001b[38;5;241m=\u001b[39m obj\u001b[38;5;241m.\u001b[39m_drop_axis(labels, axis, level\u001b[38;5;241m=\u001b[39mlevel, errors\u001b[38;5;241m=\u001b[39merrors)\n\u001b[1;32m   4551\u001b[0m \u001b[38;5;28;01mif\u001b[39;00m inplace:\n\u001b[1;32m   4552\u001b[0m     \u001b[38;5;28mself\u001b[39m\u001b[38;5;241m.\u001b[39m_update_inplace(obj)\n",
      "File \u001b[0;32m~/anaconda3/lib/python3.11/site-packages/pandas/core/generic.py:4591\u001b[0m, in \u001b[0;36mNDFrame._drop_axis\u001b[0;34m(self, labels, axis, level, errors, only_slice)\u001b[0m\n\u001b[1;32m   4589\u001b[0m         new_axis \u001b[38;5;241m=\u001b[39m axis\u001b[38;5;241m.\u001b[39mdrop(labels, level\u001b[38;5;241m=\u001b[39mlevel, errors\u001b[38;5;241m=\u001b[39merrors)\n\u001b[1;32m   4590\u001b[0m     \u001b[38;5;28;01melse\u001b[39;00m:\n\u001b[0;32m-> 4591\u001b[0m         new_axis \u001b[38;5;241m=\u001b[39m axis\u001b[38;5;241m.\u001b[39mdrop(labels, errors\u001b[38;5;241m=\u001b[39merrors)\n\u001b[1;32m   4592\u001b[0m     indexer \u001b[38;5;241m=\u001b[39m axis\u001b[38;5;241m.\u001b[39mget_indexer(new_axis)\n\u001b[1;32m   4594\u001b[0m \u001b[38;5;66;03m# Case for non-unique axis\u001b[39;00m\n\u001b[1;32m   4595\u001b[0m \u001b[38;5;28;01melse\u001b[39;00m:\n",
      "File \u001b[0;32m~/anaconda3/lib/python3.11/site-packages/pandas/core/indexes/base.py:6699\u001b[0m, in \u001b[0;36mIndex.drop\u001b[0;34m(self, labels, errors)\u001b[0m\n\u001b[1;32m   6697\u001b[0m \u001b[38;5;28;01mif\u001b[39;00m mask\u001b[38;5;241m.\u001b[39many():\n\u001b[1;32m   6698\u001b[0m     \u001b[38;5;28;01mif\u001b[39;00m errors \u001b[38;5;241m!=\u001b[39m \u001b[38;5;124m\"\u001b[39m\u001b[38;5;124mignore\u001b[39m\u001b[38;5;124m\"\u001b[39m:\n\u001b[0;32m-> 6699\u001b[0m         \u001b[38;5;28;01mraise\u001b[39;00m \u001b[38;5;167;01mKeyError\u001b[39;00m(\u001b[38;5;124mf\u001b[39m\u001b[38;5;124m\"\u001b[39m\u001b[38;5;132;01m{\u001b[39;00m\u001b[38;5;28mlist\u001b[39m(labels[mask])\u001b[38;5;132;01m}\u001b[39;00m\u001b[38;5;124m not found in axis\u001b[39m\u001b[38;5;124m\"\u001b[39m)\n\u001b[1;32m   6700\u001b[0m     indexer \u001b[38;5;241m=\u001b[39m indexer[\u001b[38;5;241m~\u001b[39mmask]\n\u001b[1;32m   6701\u001b[0m \u001b[38;5;28;01mreturn\u001b[39;00m \u001b[38;5;28mself\u001b[39m\u001b[38;5;241m.\u001b[39mdelete(indexer)\n",
      "\u001b[0;31mKeyError\u001b[0m: \"['messageDuplicated'] not found in axis\""
     ]
    }
   ],
   "source": [
    "#Treat dataset\n",
    "\n",
    "#Import data \n",
    "# data = pd.read_csv('../datasets/consolidated.csv',header=0, index_col=0)\n",
    "data = pd.read_csv('../datasets/experiments.csv',header=0, index_col=0)\n",
    "consolidated = pd.DataFrame(data)\n",
    "\n",
    "consolidated = consolidated.drop(columns=['identifier', 'n_nodes', 'consensus', 'messageDuplicated'])\n",
    "consolidated = consolidated.rename(columns={'topology':'top'})\n",
    "consolidated['topology'] = 0\n",
    "consolidated.loc[consolidated['top'] == 'general', 'topology'] = 1\n",
    "consolidated = consolidated.drop(columns=['top'])\n",
    "# consolidated.head(100)\n",
    "\n",
    "X = consolidated.to_numpy()\n",
    "print(X)"
   ]
  },
  {
   "cell_type": "code",
   "execution_count": null,
   "id": "2bcb3eaf-9c3e-4f62-b676-9b8c6c68b9de",
   "metadata": {
    "tags": []
   },
   "outputs": [],
   "source": [
    "# structure learning\n",
    "priori = PrioriKnowledge(X.shape[1])\n",
    "priori.add_forbidden_edges([(2,0),(0,6),(6,0),(3,6),(9,6),(9,10),(16,10),(16,12),(8,13),(13,8),(9,11),(7,11),(11,7),(10,7),(7,10)])\n",
    "# (2,0) = graft -> d, (0,6) = d -> dhi, (6,0) = dhi -> d, (3,6) = prune -> dhi, (9,6) = ihave -> dhi, (9,10) = ihave -> dout\n",
    "# (16,10) = bandwidth -> dout, (16,12) = bandwidth -> interval, (8,13) = dlazy -> topology, (13,8) = topology -> dlazy\n",
    "# (9,11) = ihave -> gossipFactor, (7,11) = dScore -> gossipFactor, (11,7) = GossipFactor -> dScore, (10,7) = dout -> dScore, (7,10) = dScore -> dout\n",
    "pc = PC(variant='original', priori_knowledge=priori)\n",
    "pc.learn(X)\n",
    "\n",
    "# plot predict_dag and true_dag\n",
    "GraphDAG(pc.causal_matrix, true_causal_matrix, 'result')\n",
    "\n",
    "# calculate metrics\n",
    "mt = MetricsDAG(pc.causal_matrix, true_causal_matrix)\n",
    "print(mt.metrics)"
   ]
  },
  {
   "cell_type": "code",
   "execution_count": null,
   "id": "6e48b6da-8883-496d-b04f-806bb83bf944",
   "metadata": {
    "tags": []
   },
   "outputs": [],
   "source": [
    "learned_causal_graph = nx.from_numpy_array(pc.causal_matrix, create_using=nx.DiGraph)\n",
    "\n",
    "mapping = {0:'d', 1:'messageReceived', 2:'graft', 3:'prune', 4:'iwant', 5:'dlo', 6:'dhi', 7:'dscore', 8:'dlazy', 9:'ihave', 10:'dout', 11:'gossipFactor', 12:'interval', 13:'topology', 14:'propagationTime', 15:'messageOverhead', 16:'bandwidth'}\n",
    "# nx.set_node_attributes(learned_causal_graph, labels, \"name\")\n",
    "H = nx.relabel_nodes(learned_causal_graph, mapping)\n",
    "\n",
    "fig, ax = plt.subplots(figsize=(15,20)) \n",
    "gcm.util.plot(H)#, figure_size=[15, 10])"
   ]
  },
  {
   "cell_type": "code",
   "execution_count": null,
   "id": "441a9db3-5f9b-4906-ba8e-bfc2f994dfec",
   "metadata": {
    "tags": []
   },
   "outputs": [],
   "source": [
    "pc_cat = PC(ci_test=\"chi2\")\n",
    "\n",
    "pc_cat.learn(X)\n",
    "\n",
    "# plot predict_dag and true_dag\n",
    "GraphDAG(pc_cat.causal_matrix, true_causal_matrix, 'result')\n",
    "\n",
    "# calculate metrics\n",
    "mt = MetricsDAG(pc_cat.causal_matrix, true_causal_matrix)\n",
    "print(mt.metrics)"
   ]
  },
  {
   "cell_type": "code",
   "execution_count": null,
   "id": "5bf88554-09bb-41d6-982c-55f000a6779e",
   "metadata": {
    "tags": []
   },
   "outputs": [],
   "source": [
    "learned_causal_graph =  nx.from_numpy_array(pc_cat.causal_matrix)\n",
    "\n",
    "mapping = {0:'d', 1:'messageReceived', 2:'graft', 3:'prune', 4:'iwant', 5:'dlo', 6:'dhi', 7:'dscore', 8:'dlazy', 9:'ihave', 10:'dout', 11:'gossipFactor', 12:'interval', 13:'topology', 14:'propagationTime', 15:'messageOverhead', 16:'bandwidth'}\n",
    "# nx.set_node_attributes(learned_causal_graph, labels, \"name\")\n",
    "H = nx.relabel_nodes(learned_causal_graph, mapping)\n",
    "\n",
    "fig, ax = plt.subplots(figsize=(15,20)) \n",
    "gcm.util.plot(H)#, figure_size=[15, 10])"
   ]
  },
  {
   "cell_type": "code",
   "execution_count": null,
   "id": "ac37c057-139a-4c67-bf78-fcea4f9be45d",
   "metadata": {
    "tags": []
   },
   "outputs": [],
   "source": [
    "pc_g2 = PC(ci_test=\"g2\")\n",
    "\n",
    "pc_g2.learn(X)\n",
    "\n",
    "# plot predict_dag and true_dag\n",
    "GraphDAG(pc_g2.causal_matrix, true_causal_matrix, 'result')\n",
    "\n",
    "# calculate metrics\n",
    "mt = MetricsDAG(pc_g2.causal_matrix, true_causal_matrix)\n",
    "print(mt.metrics)"
   ]
  },
  {
   "cell_type": "code",
   "execution_count": null,
   "id": "4ea29298-37b7-40c2-9142-d45f0faabe68",
   "metadata": {
    "tags": []
   },
   "outputs": [],
   "source": [
    "learned_causal_graph =  nx.from_numpy_array(pc_g2.causal_matrix)\n",
    "\n",
    "mapping = {0:'d', 1:'messageReceived', 2:'graft', 3:'prune', 4:'iwant', 5:'dlo', 6:'dhi', 7:'dscore', 8:'dlazy', 9:'ihave', 10:'dout', 11:'gossipFactor', 12:'interval', 13:'topology', 14:'propagationTime', 15:'messageOverhead', 16:'bandwidth'}\n",
    "# nx.set_node_attributes(learned_causal_graph, labels, \"name\")\n",
    "H = nx.relabel_nodes(learned_causal_graph, mapping)\n",
    "\n",
    "fig, ax = plt.subplots(figsize=(15,20)) \n",
    "gcm.util.plot(H)#, figure_size=[15, 10])"
   ]
  },
  {
   "cell_type": "code",
   "execution_count": null,
   "id": "b0c65f57-4e81-4e63-8dcb-bf5d479e764e",
   "metadata": {
    "tags": []
   },
   "outputs": [],
   "source": [
    "from castle.common.independence_tests import CITest\n",
    "\n",
    "pc_cat_alt = PC(ci_test=CITest.cressie_read)\n",
    "pc_cat_alt.learn(X)\n",
    "\n",
    "# plot predict_dag and true_dag\n",
    "GraphDAG(pc_cat_alt.causal_matrix, true_causal_matrix, 'result')\n",
    "\n",
    "# calculate metrics\n",
    "mt = MetricsDAG(pc_cat_alt.causal_matrix, true_causal_matrix)\n",
    "print(mt.metrics)"
   ]
  },
  {
   "cell_type": "code",
   "execution_count": 17,
   "id": "a6b7667c-ac24-4f85-be67-38df79264d90",
   "metadata": {
    "tags": []
   },
   "outputs": [
    {
     "data": {
      "image/png": "[encoded data removed]",
      "text/plain": [
       "<Figure size 1500x2000 with 1 Axes>"
      ]
     },
     "metadata": {},
     "output_type": "display_data"
    }
   ],
   "source": [
    "learned_causal_graph =  nx.from_numpy_array(pc_cat_alt.causal_matrix)\n",
    "\n",
    "mapping = {0:'d', 1:'messageReceived', 2:'graft', 3:'prune', 4:'iwant', 5:'dlo', 6:'dhi', 7:'dscore', 8:'dlazy', 9:'ihave', 10:'dout', 11:'gossipFactor', 12:'interval', 13:'topology', 14:'propagationTime', 15:'messageOverhead', 16:'bandwidth'}\n",
    "# nx.set_node_attributes(learned_causal_graph, labels, \"name\")\n",
    "H = nx.relabel_nodes(learned_causal_graph, mapping)\n",
    "\n",
    "fig, ax = plt.subplots(figsize=(15,20)) \n",
    "gcm.util.plot(H)#, figure_size=[15, 10])"
   ]
  },
  {
   "cell_type": "code",
   "execution_count": null,
   "id": "71fc651b-7130-4e82-8f4e-b287e0d79312",
   "metadata": {},
   "outputs": [],
   "source": []
  }
 ],
 "metadata": {
  "kernelspec": {
   "display_name": "Python 3 (ipykernel)",
   "language": "python",
   "name": "python3"
  },
  "language_info": {
   "codemirror_mode": {
    "name": "ipython",
    "version": 3
   },
   "file_extension": ".py",
   "mimetype": "text/x-python",
   "name": "python",
   "nbconvert_exporter": "python",
   "pygments_lexer": "ipython3",
   "version": "3.7.13"
  }
 },
 "nbformat": 4,
 "nbformat_minor": 5
}
