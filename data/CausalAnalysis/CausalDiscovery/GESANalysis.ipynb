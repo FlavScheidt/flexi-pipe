{
 "cells": [
  {
   "cell_type": "code",
   "execution_count": 2,
   "id": "9c63eff4-80bb-45e9-b772-a8f0358f48e7",
   "metadata": {
    "tags": []
   },
   "outputs": [
    {
     "name": "stderr",
     "output_type": "stream",
     "text": [
      "2023-12-18 20:20:47,607 - /home/flav/anaconda3/lib/python3.11/site-packages/castle/algorithms/__init__.py[line:36] - INFO: You are using ``pytorch`` as the backend.\n"
     ]
    }
   ],
   "source": [
    "#From https://github.com/PacktPublishing/Causal-Inference-and-Discovery-in-Python/blob/main/Chapter_13.ipynb\n",
    "\n",
    "import os\n",
    "os.environ['CASTLE_BACKEND'] = 'pytorch'\n",
    "\n",
    "from collections import OrderedDict\n",
    "import warnings\n",
    "\n",
    "import numpy as np\n",
    "import networkx as nx\n",
    "\n",
    "from scipy import linalg \n",
    "\n",
    "from sklearn.linear_model import LinearRegression\n",
    "\n",
    "import castle\n",
    "from castle.common import GraphDAG\n",
    "from castle.metrics import MetricsDAG\n",
    "from castle.datasets import DAG, IIDSimulation \n",
    "\n",
    "from castle.algorithms import PC, GES\n",
    "from castle.algorithms import ANMNonlinear, ICALiNGAM, DirectLiNGAM\n",
    "from castle.algorithms import Notears, NotearsNonlinear, GOLEM\n",
    "\n",
    "from castle.common.priori_knowledge import PrioriKnowledge\n",
    "\n",
    "from castle.common.independence_tests import hsic_test\n",
    "\n",
    "import matplotlib.pyplot as plt\n",
    "\n",
    "from dowhy import gcm\n",
    "import pandas as pd"
   ]
  },
  {
   "cell_type": "code",
   "execution_count": 3,
   "id": "e3e2ae88-a959-4045-b21d-cddd9f299e75",
   "metadata": {
    "tags": []
   },
   "outputs": [],
   "source": [
    "#Causal graph\n",
    "causal_graph = nx.DiGraph([('d', 'messageReceived'),\n",
    "                           ('d', 'graft'),\n",
    "                           ('d', 'prune'),\n",
    "                           ('d', 'iwant'),\n",
    "                           ('dlo', 'graft'),\n",
    "                           ('dhi', 'prune'),\n",
    "                           ('dscore', 'graft'),\n",
    "                           ('dscore', 'prune'),\n",
    "                           ('dlazy', 'iwant'),\n",
    "                           ('dlazy', 'ihave'),\n",
    "                           ('dout', 'graft'),\n",
    "                           ('dout', 'prune'),\n",
    "                           ('gossipFactor', 'iwant'),\n",
    "                           ('gossipFactor', 'ihave'),\n",
    "                           ('interval', 'graft'),\n",
    "                           ('interval', 'prune'),\n",
    "                           ('interval', 'iwant'),\n",
    "                           ('interval', 'ihave'),\n",
    "                           ('topology', 'graft'),\n",
    "                           ('topology', 'prune'),\n",
    "                           ('topology', 'propagationTime'),\n",
    "                           ('topology', 'messageReceived'),\n",
    "                           ('prune', 'graft'),\n",
    "                           ('prune', 'propagationTime'),\n",
    "                           ('messageReceived', 'messageOverhead'),\n",
    "                           ('messageOverhead', 'bandwidth'),\n",
    "                           ('ihave', 'bandwidth'),\n",
    "                           ('iwant', 'bandwidth')\n",
    "                         ])"
   ]
  },
  {
   "cell_type": "code",
   "execution_count": 4,
   "id": "54b16263-f06c-43e2-95ac-e897eea3573d",
   "metadata": {
    "tags": []
   },
   "outputs": [
    {
     "name": "stdout",
     "output_type": "stream",
     "text": [
      "[[0. 1. 1. 1. 1. 0. 0. 0. 0. 0. 0. 0. 0. 0. 0. 0. 0.]\n",
      " [0. 0. 0. 0. 0. 0. 0. 0. 0. 0. 0. 0. 0. 0. 0. 1. 0.]\n",
      " [0. 0. 0. 0. 0. 0. 0. 0. 0. 0. 0. 0. 0. 0. 0. 0. 0.]\n",
      " [0. 0. 1. 0. 0. 0. 0. 0. 0. 0. 0. 0. 0. 0. 1. 0. 0.]\n",
      " [0. 0. 0. 0. 0. 0. 0. 0. 0. 0. 0. 0. 0. 0. 0. 0. 1.]\n",
      " [0. 0. 1. 0. 0. 0. 0. 0. 0. 0. 0. 0. 0. 0. 0. 0. 0.]\n",
      " [0. 0. 0. 1. 0. 0. 0. 0. 0. 0. 0. 0. 0. 0. 0. 0. 0.]\n",
      " [0. 0. 1. 1. 0. 0. 0. 0. 0. 0. 0. 0. 0. 0. 0. 0. 0.]\n",
      " [0. 0. 0. 0. 1. 0. 0. 0. 0. 1. 0. 0. 0. 0. 0. 0. 0.]\n",
      " [0. 0. 0. 0. 0. 0. 0. 0. 0. 0. 0. 0. 0. 0. 0. 0. 1.]\n",
      " [0. 0. 1. 1. 0. 0. 0. 0. 0. 0. 0. 0. 0. 0. 0. 0. 0.]\n",
      " [0. 0. 0. 0. 1. 0. 0. 0. 0. 1. 0. 0. 0. 0. 0. 0. 0.]\n",
      " [0. 0. 1. 1. 1. 0. 0. 0. 0. 1. 0. 0. 0. 0. 0. 0. 0.]\n",
      " [0. 1. 1. 1. 0. 0. 0. 0. 0. 0. 0. 0. 0. 0. 1. 0. 0.]\n",
      " [0. 0. 0. 0. 0. 0. 0. 0. 0. 0. 0. 0. 0. 0. 0. 0. 0.]\n",
      " [0. 0. 0. 0. 0. 0. 0. 0. 0. 0. 0. 0. 0. 0. 0. 0. 1.]\n",
      " [0. 0. 0. 0. 0. 0. 0. 0. 0. 0. 0. 0. 0. 0. 0. 0. 0.]]\n",
      "['d', 'messageReceived', 'graft', 'prune', 'iwant', 'dlo', 'dhi', 'dscore', 'dlazy', 'ihave', 'dout', 'gossipFactor', 'interval', 'topology', 'propagationTime', 'messageOverhead', 'bandwidth']\n"
     ]
    }
   ],
   "source": [
    "#From digraph to adjancency matrix\n",
    "\n",
    "# true_causal_matrix = nx.adjacency_matrix(causal_graph)\n",
    "true_causal_matrix = nx.to_numpy_array(causal_graph)\n",
    "\n",
    "print(true_causal_matrix)\n",
    "print(causal_graph.nodes)"
   ]
  },
  {
   "cell_type": "code",
   "execution_count": 5,
   "id": "53155197-e39a-4124-8218-f26fcd3c918b",
   "metadata": {
    "tags": []
   },
   "outputs": [
    {
     "name": "stdout",
     "output_type": "stream",
     "text": [
      "[[   8.    4226.       0.    ... 1880.401  579.     289.5  ]\n",
      " [   8.    3986.       0.    ... 1670.648  542.     271.   ]\n",
      " [   8.     472.       0.    ... 1710.708   72.      36.   ]\n",
      " ...\n",
      " [  21.    1241.       0.    ... 1332.562  112.      56.   ]\n",
      " [  21.     463.       0.    ...  845.742   42.      21.   ]\n",
      " [  21.    1703.       0.    ... 1218.581  154.      77.   ]]\n"
     ]
    }
   ],
   "source": [
    "#Treat dataset\n",
    "\n",
    "#Import data \n",
    "# data = pd.read_csv('../datasets/consolidated.csv',header=0, index_col=0)\n",
    "data = pd.read_csv('../GenerateDatasets/consolidated.csv',header=0, index_col=0)\n",
    "consolidated = pd.DataFrame(data)\n",
    "\n",
    "consolidated = consolidated.drop(columns=['experiment', 'messageBandwidth', 'gossipBandwidth'])#, 'messageDuplicated'])#, 'n_nodes', 'consensus', 'messageDuplicated'])\n",
    "consolidated = consolidated.rename(columns={'topology':'top', 'totalBandwidth':'bandwidth'})\n",
    "consolidated['topology'] = 0\n",
    "consolidated.loc[consolidated['top'] == 'general', 'topology'] = 1\n",
    "consolidated = consolidated.loc[consolidated['bandwidth'] > 0]\n",
    "consolidated = consolidated.drop(columns=['top'])\n",
    "# consolidated.head(100)\n",
    "\n",
    "#Rearrange columns according to nodes list\n",
    "nodes = causal_graph.nodes\n",
    "\n",
    "X = consolidated[['d', 'messageReceived', 'graft', 'prune', 'iwant', 'dlo', 'dhi', 'dscore', 'dlazy', 'ihave', 'dout', 'gossipFactor', \n",
    "                  'interval', 'topology', 'propagationTime', 'messageOverhead', 'bandwidth']].to_numpy()\n",
    "\n",
    "# X = consolidated.to_numpy()\n",
    "print(X)"
   ]
  },
  {
   "cell_type": "code",
   "execution_count": 6,
   "id": "e02dfae9-b914-4ccc-a373-b69987bda785",
   "metadata": {
    "tags": []
   },
   "outputs": [
    {
     "name": "stderr",
     "output_type": "stream",
     "text": [
      "/home/flav/anaconda3/lib/python3.11/site-packages/castle/algorithms/ges/score/local_scores.py:92: RuntimeWarning: divide by zero encountered in log\n",
      "  bic_score = - (self.n * (1 + np.log(sigma)) + (k + 1) * np.log(self.n))\n",
      "/home/flav/anaconda3/lib/python3.11/site-packages/castle/algorithms/ges/operators/search.py:91: RuntimeWarning: invalid value encountered in scalar subtract\n",
      "  det = (criterion.local_score(y, pa1)\n"
     ]
    },
    {
     "ename": "LinAlgError",
     "evalue": "Singular matrix",
     "output_type": "error",
     "traceback": [
      "\u001b[0;31m---------------------------------------------------------------------------\u001b[0m",
      "\u001b[0;31mLinAlgError\u001b[0m                               Traceback (most recent call last)",
      "Cell \u001b[0;32mIn[6], line 5\u001b[0m\n\u001b[1;32m      2\u001b[0m ges \u001b[38;5;241m=\u001b[39m GES(criterion\u001b[38;5;241m=\u001b[39m\u001b[38;5;124m'\u001b[39m\u001b[38;5;124mbic\u001b[39m\u001b[38;5;124m'\u001b[39m)\n\u001b[1;32m      4\u001b[0m \u001b[38;5;66;03m# Train\u001b[39;00m\n\u001b[0;32m----> 5\u001b[0m ges\u001b[38;5;241m.\u001b[39mlearn(X)\n",
      "File \u001b[0;32m~/anaconda3/lib/python3.11/site-packages/castle/algorithms/ges/ges.py:88\u001b[0m, in \u001b[0;36mGES.learn\u001b[0;34m(self, data, columns, **kwargs)\u001b[0m\n\u001b[1;32m     85\u001b[0m \u001b[38;5;28;01melif\u001b[39;00m \u001b[38;5;28mself\u001b[39m\u001b[38;5;241m.\u001b[39mcriterion \u001b[38;5;241m==\u001b[39m \u001b[38;5;124m'\u001b[39m\u001b[38;5;124mbdeu\u001b[39m\u001b[38;5;124m'\u001b[39m:\n\u001b[1;32m     86\u001b[0m     \u001b[38;5;28mself\u001b[39m\u001b[38;5;241m.\u001b[39mcriterion \u001b[38;5;241m=\u001b[39m BDeuScore(data\u001b[38;5;241m=\u001b[39mdata, k\u001b[38;5;241m=\u001b[39m\u001b[38;5;28mself\u001b[39m\u001b[38;5;241m.\u001b[39mk, N\u001b[38;5;241m=\u001b[39m\u001b[38;5;28mself\u001b[39m\u001b[38;5;241m.\u001b[39mN)\n\u001b[0;32m---> 88\u001b[0m c \u001b[38;5;241m=\u001b[39m search\u001b[38;5;241m.\u001b[39mfes(C\u001b[38;5;241m=\u001b[39me, criterion\u001b[38;5;241m=\u001b[39m\u001b[38;5;28mself\u001b[39m\u001b[38;5;241m.\u001b[39mcriterion)\n\u001b[1;32m     89\u001b[0m c \u001b[38;5;241m=\u001b[39m search\u001b[38;5;241m.\u001b[39mbes(C\u001b[38;5;241m=\u001b[39mc, criterion\u001b[38;5;241m=\u001b[39m\u001b[38;5;28mself\u001b[39m\u001b[38;5;241m.\u001b[39mcriterion)\n\u001b[1;32m     91\u001b[0m \u001b[38;5;28mself\u001b[39m\u001b[38;5;241m.\u001b[39m_causal_matrix \u001b[38;5;241m=\u001b[39m Tensor(c, index\u001b[38;5;241m=\u001b[39mcolumns, columns\u001b[38;5;241m=\u001b[39mcolumns)\n",
      "File \u001b[0;32m~/anaconda3/lib/python3.11/site-packages/castle/algorithms/ges/operators/search.py:42\u001b[0m, in \u001b[0;36mfes\u001b[0;34m(C, criterion)\u001b[0m\n\u001b[1;32m     25\u001b[0m \u001b[38;5;250m\u001b[39m\u001b[38;5;124;03m\"\"\"\u001b[39;00m\n\u001b[1;32m     26\u001b[0m \u001b[38;5;124;03mForward Equivalence Search\u001b[39;00m\n\u001b[1;32m     27\u001b[0m \n\u001b[0;32m   (...)\u001b[0m\n\u001b[1;32m     38\u001b[0m \u001b[38;5;124;03m    cpdag\u001b[39;00m\n\u001b[1;32m     39\u001b[0m \u001b[38;5;124;03m\"\"\"\u001b[39;00m\n\u001b[1;32m     41\u001b[0m \u001b[38;5;28;01mwhile\u001b[39;00m \u001b[38;5;28;01mTrue\u001b[39;00m:\n\u001b[0;32m---> 42\u001b[0m     edge, t \u001b[38;5;241m=\u001b[39m forward_search(C, criterion)\n\u001b[1;32m     43\u001b[0m     \u001b[38;5;28;01mif\u001b[39;00m edge \u001b[38;5;129;01mis\u001b[39;00m \u001b[38;5;28;01mNone\u001b[39;00m:\n\u001b[1;32m     44\u001b[0m         \u001b[38;5;28;01mbreak\u001b[39;00m\n",
      "File \u001b[0;32m~/anaconda3/lib/python3.11/site-packages/castle/algorithms/ges/operators/search.py:91\u001b[0m, in \u001b[0;36mforward_search\u001b[0;34m(C, criterion)\u001b[0m\n\u001b[1;32m     89\u001b[0m pa2 \u001b[38;5;241m=\u001b[39m pa_y \u001b[38;5;241m|\u001b[39m T \u001b[38;5;241m|\u001b[39m na_yx\n\u001b[1;32m     90\u001b[0m \u001b[38;5;28;01mtry\u001b[39;00m:\n\u001b[0;32m---> 91\u001b[0m     det \u001b[38;5;241m=\u001b[39m (criterion\u001b[38;5;241m.\u001b[39mlocal_score(y, pa1)\n\u001b[1;32m     92\u001b[0m            \u001b[38;5;241m-\u001b[39m criterion\u001b[38;5;241m.\u001b[39mlocal_score(y, pa2))\n\u001b[1;32m     93\u001b[0m \u001b[38;5;28;01mexcept\u001b[39;00m \u001b[38;5;167;01mAttributeError\u001b[39;00m:\n\u001b[1;32m     94\u001b[0m     \u001b[38;5;28;01mraise\u001b[39;00m \u001b[38;5;167;01mAttributeError\u001b[39;00m(\u001b[38;5;124mf\u001b[39m\u001b[38;5;124m\"\u001b[39m\u001b[38;5;124mThe criterion has no attribute named \u001b[39m\u001b[38;5;124m\"\u001b[39m\n\u001b[1;32m     95\u001b[0m                          \u001b[38;5;124mf\u001b[39m\u001b[38;5;124m\"\u001b[39m\u001b[38;5;124m`local_score`, you can create a class inherit\u001b[39m\u001b[38;5;124m\"\u001b[39m\n\u001b[1;32m     96\u001b[0m                          \u001b[38;5;124mf\u001b[39m\u001b[38;5;124m\"\u001b[39m\u001b[38;5;124m`DecomposableScore` and implement `local_score`\u001b[39m\u001b[38;5;124m\"\u001b[39m\n\u001b[1;32m     97\u001b[0m                          \u001b[38;5;124mf\u001b[39m\u001b[38;5;124m\"\u001b[39m\u001b[38;5;124m method.\u001b[39m\u001b[38;5;124m\"\u001b[39m)\n",
      "File \u001b[0;32m~/anaconda3/lib/python3.11/site-packages/castle/algorithms/ges/score/local_scores.py:58\u001b[0m, in \u001b[0;36mBICScore.local_score\u001b[0;34m(self, y, pa_y)\u001b[0m\n\u001b[1;32m     56\u001b[0m     \u001b[38;5;28;01mreturn\u001b[39;00m \u001b[38;5;28mself\u001b[39m\u001b[38;5;241m.\u001b[39m_bic_by_r2(y, pa_y)\n\u001b[1;32m     57\u001b[0m \u001b[38;5;28;01melif\u001b[39;00m \u001b[38;5;28mself\u001b[39m\u001b[38;5;241m.\u001b[39mmethod \u001b[38;5;241m==\u001b[39m \u001b[38;5;124m'\u001b[39m\u001b[38;5;124mscatter\u001b[39m\u001b[38;5;124m'\u001b[39m:\n\u001b[0;32m---> 58\u001b[0m     \u001b[38;5;28;01mreturn\u001b[39;00m \u001b[38;5;28mself\u001b[39m\u001b[38;5;241m.\u001b[39m_bic_by_scatter(y, pa_y)\n\u001b[1;32m     59\u001b[0m \u001b[38;5;28;01melse\u001b[39;00m:\n\u001b[1;32m     60\u001b[0m     \u001b[38;5;28;01mraise\u001b[39;00m \u001b[38;5;167;01mValueError\u001b[39;00m(\u001b[38;5;124mf\u001b[39m\u001b[38;5;124m\"\u001b[39m\u001b[38;5;124mThe parameter `method` must be one of [\u001b[39m\u001b[38;5;124m'\u001b[39m\u001b[38;5;124mr2\u001b[39m\u001b[38;5;124m'\u001b[39m\u001b[38;5;124m, \u001b[39m\u001b[38;5;124m'\u001b[39m\u001b[38;5;124mscatter\u001b[39m\u001b[38;5;124m'\u001b[39m\u001b[38;5;124m], \u001b[39m\u001b[38;5;124m\"\u001b[39m\n\u001b[1;32m     61\u001b[0m                      \u001b[38;5;124mf\u001b[39m\u001b[38;5;124m\"\u001b[39m\u001b[38;5;124mbut got \u001b[39m\u001b[38;5;132;01m{\u001b[39;00m\u001b[38;5;28mself\u001b[39m\u001b[38;5;241m.\u001b[39mmethod\u001b[38;5;132;01m}\u001b[39;00m\u001b[38;5;124m.\u001b[39m\u001b[38;5;124m\"\u001b[39m)\n",
      "File \u001b[0;32m~/anaconda3/lib/python3.11/site-packages/castle/algorithms/ges/score/local_scores.py:90\u001b[0m, in \u001b[0;36mBICScore._bic_by_scatter\u001b[0;34m(self, y, pa_y)\u001b[0m\n\u001b[1;32m     88\u001b[0m     pa_cov \u001b[38;5;241m=\u001b[39m scatter[pa, :][:, pa]\n\u001b[1;32m     89\u001b[0m     y_cov \u001b[38;5;241m=\u001b[39m scatter[y, pa]\n\u001b[0;32m---> 90\u001b[0m     coef \u001b[38;5;241m=\u001b[39m np\u001b[38;5;241m.\u001b[39mlinalg\u001b[38;5;241m.\u001b[39msolve(pa_cov, y_cov)\n\u001b[1;32m     91\u001b[0m     sigma \u001b[38;5;241m=\u001b[39m sigma \u001b[38;5;241m-\u001b[39m y_cov \u001b[38;5;241m@\u001b[39m coef\n\u001b[1;32m     92\u001b[0m bic_score \u001b[38;5;241m=\u001b[39m \u001b[38;5;241m-\u001b[39m (\u001b[38;5;28mself\u001b[39m\u001b[38;5;241m.\u001b[39mn \u001b[38;5;241m*\u001b[39m (\u001b[38;5;241m1\u001b[39m \u001b[38;5;241m+\u001b[39m np\u001b[38;5;241m.\u001b[39mlog(sigma)) \u001b[38;5;241m+\u001b[39m (k \u001b[38;5;241m+\u001b[39m \u001b[38;5;241m1\u001b[39m) \u001b[38;5;241m*\u001b[39m np\u001b[38;5;241m.\u001b[39mlog(\u001b[38;5;28mself\u001b[39m\u001b[38;5;241m.\u001b[39mn))\n",
      "File \u001b[0;32m<__array_function__ internals>:200\u001b[0m, in \u001b[0;36msolve\u001b[0;34m(*args, **kwargs)\u001b[0m\n",
      "File \u001b[0;32m~/anaconda3/lib/python3.11/site-packages/numpy/linalg/linalg.py:386\u001b[0m, in \u001b[0;36msolve\u001b[0;34m(a, b)\u001b[0m\n\u001b[1;32m    384\u001b[0m signature \u001b[38;5;241m=\u001b[39m \u001b[38;5;124m'\u001b[39m\u001b[38;5;124mDD->D\u001b[39m\u001b[38;5;124m'\u001b[39m \u001b[38;5;28;01mif\u001b[39;00m isComplexType(t) \u001b[38;5;28;01melse\u001b[39;00m \u001b[38;5;124m'\u001b[39m\u001b[38;5;124mdd->d\u001b[39m\u001b[38;5;124m'\u001b[39m\n\u001b[1;32m    385\u001b[0m extobj \u001b[38;5;241m=\u001b[39m get_linalg_error_extobj(_raise_linalgerror_singular)\n\u001b[0;32m--> 386\u001b[0m r \u001b[38;5;241m=\u001b[39m gufunc(a, b, signature\u001b[38;5;241m=\u001b[39msignature, extobj\u001b[38;5;241m=\u001b[39mextobj)\n\u001b[1;32m    388\u001b[0m \u001b[38;5;28;01mreturn\u001b[39;00m wrap(r\u001b[38;5;241m.\u001b[39mastype(result_t, copy\u001b[38;5;241m=\u001b[39m\u001b[38;5;28;01mFalse\u001b[39;00m))\n",
      "File \u001b[0;32m~/anaconda3/lib/python3.11/site-packages/numpy/linalg/linalg.py:89\u001b[0m, in \u001b[0;36m_raise_linalgerror_singular\u001b[0;34m(err, flag)\u001b[0m\n\u001b[1;32m     88\u001b[0m \u001b[38;5;28;01mdef\u001b[39;00m \u001b[38;5;21m_raise_linalgerror_singular\u001b[39m(err, flag):\n\u001b[0;32m---> 89\u001b[0m     \u001b[38;5;28;01mraise\u001b[39;00m LinAlgError(\u001b[38;5;124m\"\u001b[39m\u001b[38;5;124mSingular matrix\u001b[39m\u001b[38;5;124m\"\u001b[39m)\n",
      "\u001b[0;31mLinAlgError\u001b[0m: Singular matrix"
     ]
    }
   ],
   "source": [
    "\n",
    "# Instantiate GES\n",
    "ges = GES(criterion='bic')\n",
    "\n",
    "# Train\n",
    "ges.learn(X)"
   ]
  },
  {
   "cell_type": "code",
   "execution_count": null,
   "id": "90663a89-489d-4aeb-9f93-4ebd7e0b44cb",
   "metadata": {
    "tags": []
   },
   "outputs": [],
   "source": [
    "# Visualize\n",
    "GraphDAG(\n",
    "    est_dag=ges.causal_matrix, \n",
    "    true_dag=true_causal_matrix)\n",
    "\n",
    "plt.show()"
   ]
  },
  {
   "cell_type": "code",
   "execution_count": null,
   "id": "21b105bf-ceec-45f9-83b9-032320e8a049",
   "metadata": {
    "tags": []
   },
   "outputs": [],
   "source": [
    "learned_causal_graph =  nx.from_numpy_array(ges.causal_matrix, create_using=nx.DiGraph)\n",
    "\n",
    "mapping = {0:'d',\n",
    "            1:'messageReceived',\n",
    "            2:'graft',\n",
    "            3:'prune',\n",
    "            4:'iwant',\n",
    "            5:'dlo',\n",
    "            6:'dhi',\n",
    "            7:'dscore',\n",
    "            8:'dlazy',\n",
    "            9:'ihave',\n",
    "            10:'dout',\n",
    "            11:'gossipFactor',\n",
    "            12:'interval',\n",
    "            13:'topology',\n",
    "            14:'propagationTime',\n",
    "            15:'messageOverhead',\n",
    "            16:'messageBandwidth',\n",
    "            17:'totalBandwidth',\n",
    "            18:'gossipBandwidth'}\n",
    "H = nx.relabel_nodes(learned_causal_graph, mapping)\n",
    "\n",
    "fig, ax = plt.subplots(figsize=(15,20)) \n",
    "# gcm.util.plot(H)#, figure_size=[15, 10])\n",
    "\n",
    "G=gcm.util.plot(H, figure_size=[15, 10])\n",
    "\n",
    "nx.write_adjlist(H, \"ges.adjlist\")\n"
   ]
  },
  {
   "cell_type": "code",
   "execution_count": 8,
   "id": "301d3d85-1e9a-4c28-b551-07396af333c0",
   "metadata": {
    "tags": []
   },
   "outputs": [
    {
     "ename": "NetworkXError",
     "evalue": "The edge iwant-topology not in graph.",
     "output_type": "error",
     "traceback": [
      "\u001b[0;31m---------------------------------------------------------------------------\u001b[0m",
      "\u001b[0;31mKeyError\u001b[0m                                  Traceback (most recent call last)",
      "\u001b[0;32m~/anaconda3/lib/python3.7/site-packages/networkx/classes/digraph.py\u001b[0m in \u001b[0;36mremove_edge\u001b[0;34m(self, u, v)\u001b[0m\n\u001b[1;32m    730\u001b[0m         \u001b[0;32mtry\u001b[0m\u001b[0;34m:\u001b[0m\u001b[0;34m\u001b[0m\u001b[0;34m\u001b[0m\u001b[0m\n\u001b[0;32m--> 731\u001b[0;31m             \u001b[0;32mdel\u001b[0m \u001b[0mself\u001b[0m\u001b[0;34m.\u001b[0m\u001b[0m_succ\u001b[0m\u001b[0;34m[\u001b[0m\u001b[0mu\u001b[0m\u001b[0;34m]\u001b[0m\u001b[0;34m[\u001b[0m\u001b[0mv\u001b[0m\u001b[0;34m]\u001b[0m\u001b[0;34m\u001b[0m\u001b[0;34m\u001b[0m\u001b[0m\n\u001b[0m\u001b[1;32m    732\u001b[0m             \u001b[0;32mdel\u001b[0m \u001b[0mself\u001b[0m\u001b[0;34m.\u001b[0m\u001b[0m_pred\u001b[0m\u001b[0;34m[\u001b[0m\u001b[0mv\u001b[0m\u001b[0;34m]\u001b[0m\u001b[0;34m[\u001b[0m\u001b[0mu\u001b[0m\u001b[0;34m]\u001b[0m\u001b[0;34m\u001b[0m\u001b[0;34m\u001b[0m\u001b[0m\n",
      "\u001b[0;31mKeyError\u001b[0m: 'topology'",
      "\nThe above exception was the direct cause of the following exception:\n",
      "\u001b[0;31mNetworkXError\u001b[0m                             Traceback (most recent call last)",
      "\u001b[0;32m/tmp/ipykernel_233642/995131993.py\u001b[0m in \u001b[0;36m<module>\u001b[0;34m\u001b[0m\n\u001b[1;32m      1\u001b[0m \u001b[0;31m#Remove edges for dowhy analysis\u001b[0m\u001b[0;34m\u001b[0m\u001b[0;34m\u001b[0m\u001b[0;34m\u001b[0m\u001b[0m\n\u001b[1;32m      2\u001b[0m \u001b[0;34m\u001b[0m\u001b[0m\n\u001b[0;32m----> 3\u001b[0;31m \u001b[0mH\u001b[0m\u001b[0;34m.\u001b[0m\u001b[0mremove_edge\u001b[0m\u001b[0;34m(\u001b[0m\u001b[0;34m'iwant'\u001b[0m\u001b[0;34m,\u001b[0m \u001b[0;34m'topology'\u001b[0m\u001b[0;34m)\u001b[0m\u001b[0;34m\u001b[0m\u001b[0;34m\u001b[0m\u001b[0m\n\u001b[0m\u001b[1;32m      4\u001b[0m \u001b[0mH\u001b[0m\u001b[0;34m.\u001b[0m\u001b[0mremove_edge\u001b[0m\u001b[0;34m(\u001b[0m\u001b[0;34m'dhi'\u001b[0m\u001b[0;34m,\u001b[0m \u001b[0;34m'd'\u001b[0m\u001b[0;34m)\u001b[0m\u001b[0;34m\u001b[0m\u001b[0;34m\u001b[0m\u001b[0m\n\u001b[1;32m      5\u001b[0m \u001b[0mH\u001b[0m\u001b[0;34m.\u001b[0m\u001b[0mremove_edge\u001b[0m\u001b[0;34m(\u001b[0m\u001b[0;34m'prune'\u001b[0m\u001b[0;34m,\u001b[0m \u001b[0;34m'dhi'\u001b[0m\u001b[0;34m)\u001b[0m\u001b[0;34m\u001b[0m\u001b[0;34m\u001b[0m\u001b[0m\n",
      "\u001b[0;32m~/anaconda3/lib/python3.7/site-packages/networkx/classes/digraph.py\u001b[0m in \u001b[0;36mremove_edge\u001b[0;34m(self, u, v)\u001b[0m\n\u001b[1;32m    732\u001b[0m             \u001b[0;32mdel\u001b[0m \u001b[0mself\u001b[0m\u001b[0;34m.\u001b[0m\u001b[0m_pred\u001b[0m\u001b[0;34m[\u001b[0m\u001b[0mv\u001b[0m\u001b[0;34m]\u001b[0m\u001b[0;34m[\u001b[0m\u001b[0mu\u001b[0m\u001b[0;34m]\u001b[0m\u001b[0;34m\u001b[0m\u001b[0;34m\u001b[0m\u001b[0m\n\u001b[1;32m    733\u001b[0m         \u001b[0;32mexcept\u001b[0m \u001b[0mKeyError\u001b[0m \u001b[0;32mas\u001b[0m \u001b[0me\u001b[0m\u001b[0;34m:\u001b[0m\u001b[0;34m\u001b[0m\u001b[0;34m\u001b[0m\u001b[0m\n\u001b[0;32m--> 734\u001b[0;31m             \u001b[0;32mraise\u001b[0m \u001b[0mNetworkXError\u001b[0m\u001b[0;34m(\u001b[0m\u001b[0;34mf\"The edge {u}-{v} not in graph.\"\u001b[0m\u001b[0;34m)\u001b[0m \u001b[0;32mfrom\u001b[0m \u001b[0me\u001b[0m\u001b[0;34m\u001b[0m\u001b[0;34m\u001b[0m\u001b[0m\n\u001b[0m\u001b[1;32m    735\u001b[0m \u001b[0;34m\u001b[0m\u001b[0m\n\u001b[1;32m    736\u001b[0m     \u001b[0;32mdef\u001b[0m \u001b[0mremove_edges_from\u001b[0m\u001b[0;34m(\u001b[0m\u001b[0mself\u001b[0m\u001b[0;34m,\u001b[0m \u001b[0mebunch\u001b[0m\u001b[0;34m)\u001b[0m\u001b[0;34m:\u001b[0m\u001b[0;34m\u001b[0m\u001b[0;34m\u001b[0m\u001b[0m\n",
      "\u001b[0;31mNetworkXError\u001b[0m: The edge iwant-topology not in graph."
     ]
    }
   ],
   "source": [
    "#Remove edges for dowhy analysis\n",
    "\n",
    "H.remove_edge('iwant', 'topology')\n",
    "H.remove_edge('dhi', 'd')\n",
    "H.remove_edge('prune', 'dhi')\n",
    "H.remove_edge('prune', 'dlo')\n",
    "H.remove_edge('iwant', 'dlo')\n",
    "H.remove_edge('messageReceived', 'dlo')\n",
    "H.remove_edge('topology', 'dlo')\n",
    "H.remove_edge('dscore', 'dout')\n",
    "H.remove_edge('dhi', 'dout')\n",
    "H.remove_edge('bandwidth', 'dout')\n",
    "H.remove_edge('dlazy', 'dout')\n",
    "H.remove_edge('bandwidth', 'dlazy')\n",
    "H.remove_edge('messageOverhead', 'interval')\n",
    "H.remove_edge('dlazy', 'interval')\n",
    "H.remove_edge('bandwidth', 'interval')\n",
    "H.remove_edge('topology', 'interval')\n",
    "H.remove_edge('ihave', 'gossipFactor')\n",
    "H.remove_edge('bandwidth', 'gossipFactor')\n",
    "H.remove_edge('messageReceived', 'd')\n",
    "H.remove_edge('propagationTime', 'dout')\n",
    "\n",
    "fig, ax = plt.subplots(figsize=(15,20)) \n",
    "gcm.util.plot(H)#, figure_size=[15, 10])"
   ]
  },
  {
   "cell_type": "code",
   "execution_count": null,
   "id": "2261a6e9-a6a1-44c2-b4d0-fe4be7885a15",
   "metadata": {},
   "outputs": [],
   "source": []
  }
 ],
 "metadata": {
  "kernelspec": {
   "display_name": "Python 3 (ipykernel)",
   "language": "python",
   "name": "python3"
  },
  "language_info": {
   "codemirror_mode": {
    "name": "ipython",
    "version": 3
   },
   "file_extension": ".py",
   "mimetype": "text/x-python",
   "name": "python",
   "nbconvert_exporter": "python",
   "pygments_lexer": "ipython3",
   "version": "3.10.13"
  }
 },
 "nbformat": 4,
 "nbformat_minor": 5
}
