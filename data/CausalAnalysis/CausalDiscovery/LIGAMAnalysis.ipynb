{
 "cells": [
  {
   "cell_type": "code",
   "execution_count": 1,
   "id": "879a6d6a-6610-41f0-a35c-e2794844bc7e",
   "metadata": {
    "tags": []
   },
   "outputs": [
    {
     "name": "stderr",
     "output_type": "stream",
     "text": [
      "2023-11-15 20:23:51,764 - /home/flav/anaconda3/lib/python3.11/site-packages/castle/backend/__init__.py[line:36] - INFO: You can use `os.environ['CASTLE_BACKEND'] = backend` to set the backend(`pytorch` or `mindspore`).\n",
      "2023-11-15 20:23:51,820 - /home/flav/anaconda3/lib/python3.11/site-packages/castle/algorithms/__init__.py[line:36] - INFO: You are using ``pytorch`` as the backend.\n"
     ]
    }
   ],
   "source": [
    "import pandas as pd\n",
    "from castle.common import GraphDAG\n",
    "from castle.metrics import MetricsDAG\n",
    "from castle.datasets import DAG, IIDSimulation\n",
    "from castle.algorithms import PC\n",
    "from castle.common.priori_knowledge import PrioriKnowledge\n",
    "\n",
    "import networkx as nx\n",
    "from dowhy import gcm\n",
    "import numpy as np\n",
    "import matplotlib.pyplot as plt"
   ]
  },
  {
   "cell_type": "code",
   "execution_count": 2,
   "id": "d9769756-f8cf-449c-8c19-4c931255369e",
   "metadata": {
    "tags": []
   },
   "outputs": [],
   "source": [
    "#Causal graph\n",
    "causal_graph = nx.DiGraph([('d', 'messageReceived'),\n",
    "                           ('d', 'graft'),\n",
    "                           ('d', 'prune'),\n",
    "                           ('d', 'iwant'),\n",
    "                           ('dlo', 'graft'),\n",
    "                           ('dhi', 'prune'),\n",
    "                           ('dscore', 'graft'),\n",
    "                           ('dscore', 'prune'),\n",
    "                           ('dlazy', 'iwant'),\n",
    "                           ('dlazy', 'ihave'),\n",
    "                           ('dout', 'graft'),\n",
    "                           ('dout', 'prune'),\n",
    "                           ('gossipFactor', 'iwant'),\n",
    "                           ('gossipFactor', 'ihave'),\n",
    "                           ('interval', 'graft'),\n",
    "                           ('interval', 'prune'),\n",
    "                           ('interval', 'iwant'),\n",
    "                           ('interval', 'ihave'),\n",
    "                           ('topology', 'graft'),\n",
    "                           ('topology', 'prune'),\n",
    "                           ('topology', 'propagationTime'),\n",
    "                           ('topology', 'messageReceived'),\n",
    "                           ('prune', 'graft'),\n",
    "                           ('prune', 'propagationTime'),\n",
    "                           ('messageReceived', 'messageOverhead'),\n",
    "                           ('messageOverhead', 'bandwidth'),\n",
    "                           ('iwant', 'bandwidth'),\n",
    "                           ('ihave', 'bandwidth'),\n",
    "                           ('messageReceived', 'bandwidth')\n",
    "                         ])"
   ]
  },
  {
   "cell_type": "code",
   "execution_count": 3,
   "id": "40df0a0f-ed78-4bd8-9779-7ae66100a923",
   "metadata": {
    "tags": []
   },
   "outputs": [
    {
     "name": "stdout",
     "output_type": "stream",
     "text": [
      "[[0. 1. 1. 1. 1. 0. 0. 0. 0. 0. 0. 0. 0. 0. 0. 0. 0.]\n",
      " [0. 0. 0. 0. 0. 0. 0. 0. 0. 0. 0. 0. 0. 0. 0. 1. 1.]\n",
      " [0. 0. 0. 0. 0. 0. 0. 0. 0. 0. 0. 0. 0. 0. 0. 0. 0.]\n",
      " [0. 0. 1. 0. 0. 0. 0. 0. 0. 0. 0. 0. 0. 0. 1. 0. 0.]\n",
      " [0. 0. 0. 0. 0. 0. 0. 0. 0. 0. 0. 0. 0. 0. 0. 0. 1.]\n",
      " [0. 0. 1. 0. 0. 0. 0. 0. 0. 0. 0. 0. 0. 0. 0. 0. 0.]\n",
      " [0. 0. 0. 1. 0. 0. 0. 0. 0. 0. 0. 0. 0. 0. 0. 0. 0.]\n",
      " [0. 0. 1. 1. 0. 0. 0. 0. 0. 0. 0. 0. 0. 0. 0. 0. 0.]\n",
      " [0. 0. 0. 0. 1. 0. 0. 0. 0. 1. 0. 0. 0. 0. 0. 0. 0.]\n",
      " [0. 0. 0. 0. 0. 0. 0. 0. 0. 0. 0. 0. 0. 0. 0. 0. 1.]\n",
      " [0. 0. 1. 1. 0. 0. 0. 0. 0. 0. 0. 0. 0. 0. 0. 0. 0.]\n",
      " [0. 0. 0. 0. 1. 0. 0. 0. 0. 1. 0. 0. 0. 0. 0. 0. 0.]\n",
      " [0. 0. 1. 1. 1. 0. 0. 0. 0. 1. 0. 0. 0. 0. 0. 0. 0.]\n",
      " [0. 1. 1. 1. 0. 0. 0. 0. 0. 0. 0. 0. 0. 0. 1. 0. 0.]\n",
      " [0. 0. 0. 0. 0. 0. 0. 0. 0. 0. 0. 0. 0. 0. 0. 0. 0.]\n",
      " [0. 0. 0. 0. 0. 0. 0. 0. 0. 0. 0. 0. 0. 0. 0. 0. 1.]\n",
      " [0. 0. 0. 0. 0. 0. 0. 0. 0. 0. 0. 0. 0. 0. 0. 0. 0.]]\n",
      "['d', 'messageReceived', 'graft', 'prune', 'iwant', 'dlo', 'dhi', 'dscore', 'dlazy', 'ihave', 'dout', 'gossipFactor', 'interval', 'topology', 'propagationTime', 'messageOverhead', 'bandwidth']\n"
     ]
    }
   ],
   "source": [
    "#From digraph to adjancency matrix\n",
    "\n",
    "# true_causal_matrix = nx.adjacency_matrix(causal_graph)\n",
    "true_causal_matrix = nx.to_numpy_array(causal_graph)\n",
    "\n",
    "print(true_causal_matrix)\n",
    "print(causal_graph.nodes)"
   ]
  },
  {
   "cell_type": "code",
   "execution_count": 4,
   "id": "80b732fb-86f9-4a22-9eba-2eeef01ef5a2",
   "metadata": {
    "tags": []
   },
   "outputs": [
    {
     "name": "stdout",
     "output_type": "stream",
     "text": [
      "[[8.000e+00 6.000e+00 1.200e+01 4.000e+00 8.000e+00 2.000e+00 2.500e-01\n",
      "  1.000e+00 2.149e+03 1.262e+06 1.830e+03 1.682e+06 1.537e+03 1.250e+02\n",
      "  1.700e+01 1.098e+05 0.000e+00]\n",
      " [8.000e+00 6.000e+00 1.200e+01 4.000e+00 8.000e+00 2.000e+00 2.500e-01\n",
      "  3.000e+00 2.160e+03 1.220e+06 1.606e+03 1.844e+06 2.137e+03 0.000e+00\n",
      "  1.000e+00 4.868e+03 0.000e+00]\n",
      " [1.600e+01 8.000e+00 2.000e+01 1.600e+01 8.000e+00 4.000e+00 5.000e-01\n",
      "  1.000e+00 2.009e+03 9.919e+05 1.300e+03 1.428e+06 2.138e+03 0.000e+00\n",
      "  0.000e+00 7.920e+02 0.000e+00]\n",
      " [1.600e+01 8.000e+00 2.000e+01 1.600e+01 8.000e+00 4.000e+00 5.000e-01\n",
      "  5.000e-01 6.675e+03 3.889e+05 6.215e+02 7.629e+05 1.387e+03 1.350e+02\n",
      "  1.200e+01 7.145e+04 0.000e+00]\n",
      " [6.000e+00 4.000e+00 8.000e+00 2.000e+00 2.000e+00 2.000e+00 2.500e-01\n",
      "  1.000e+00 3.089e+03 8.594e+05 1.363e+03 1.778e+06 1.469e+03 3.080e+02\n",
      "  4.600e+01 1.418e+05 0.000e+00]\n",
      " [6.000e+00 4.000e+00 8.000e+00 2.000e+00 2.000e+00 4.000e+00 2.500e-01\n",
      "  5.000e-01 2.097e+03 3.912e+05 5.922e+02 8.708e+05 2.136e+03 0.000e+00\n",
      "  2.000e+00 4.869e+03 0.000e+00]\n",
      " [2.000e+01 1.600e+01 2.400e+01 8.000e+00 1.600e+01 8.000e+00 5.000e-01\n",
      "  1.000e+00 2.014e+03 1.063e+06 1.430e+03 1.999e+06 2.134e+03 0.000e+00\n",
      "  0.000e+00 9.774e+03 0.000e+00]\n",
      " [1.600e+01 8.000e+00 2.000e+01 4.000e+00 8.000e+00 2.000e+00 5.000e-01\n",
      "  1.000e+00 2.353e+03 1.348e+06 1.785e+03 2.013e+06 1.819e+03 0.000e+00\n",
      "  1.400e+01 8.629e+03 0.000e+00]\n",
      " [1.600e+01 8.000e+00 2.000e+01 8.000e+00 8.000e+00 4.000e+00 2.500e-01\n",
      "  1.000e+00 1.903e+03 9.525e+05 1.281e+03 1.957e+06 2.138e+03 0.000e+00\n",
      "  1.000e+00 9.194e+03 0.000e+00]\n",
      " [1.600e+01 8.000e+00 2.000e+01 4.000e+00 8.000e+00 2.000e+00 2.500e-01\n",
      "  1.000e+00 1.963e+03 8.098e+05 1.167e+03 1.008e+06 1.777e+03 1.400e+01\n",
      "  2.300e+01 1.858e+05 0.000e+00]\n",
      " [8.000e+00 6.000e+00 1.600e+01 4.000e+00 8.000e+00 2.000e+00 2.500e-01\n",
      "  1.000e+00 2.101e+03 1.101e+06 1.515e+03 1.440e+06 1.739e+03 2.800e+01\n",
      "  2.600e+01 1.333e+05 0.000e+00]\n",
      " [8.000e+00 6.000e+00 1.600e+01 4.000e+00 8.000e+00 2.000e+00 2.500e-01\n",
      "  2.500e-01 1.887e+03 4.447e+05 6.701e+02 1.269e+06 1.888e+03 0.000e+00\n",
      "  1.100e+01 7.943e+04 0.000e+00]\n",
      " [1.600e+01 8.000e+00 2.000e+01 6.000e+00 8.000e+00 2.000e+00 2.500e-01\n",
      "  1.000e+00 1.895e+03 9.617e+05 1.372e+03 1.541e+06 1.815e+03 1.000e+00\n",
      "  2.000e+01 1.056e+05 0.000e+00]\n",
      " [1.000e+01 8.000e+00 1.600e+01 4.000e+00 8.000e+00 4.000e+00 2.500e-01\n",
      "  1.000e+00 1.800e+03 1.260e+06 1.820e+03 1.709e+06 1.734e+03 0.000e+00\n",
      "  3.100e+01 1.792e+05 0.000e+00]\n",
      " [8.000e+00 6.000e+00 1.200e+01 4.000e+00 8.000e+00 2.000e+00 2.500e-01\n",
      "  1.000e+00 1.464e+03 5.102e+05 7.636e+02 1.136e+06 2.970e+02 3.300e+01\n",
      "  1.800e+01 1.452e+05 1.000e+00]\n",
      " [8.000e+00 6.000e+00 1.200e+01 4.000e+00 8.000e+00 2.000e+00 2.500e-01\n",
      "  3.000e+00 1.358e+03 9.628e+05 1.300e+03 1.846e+06 4.320e+02 2.200e+01\n",
      "  4.000e+01 2.306e+05 1.000e+00]\n",
      " [1.600e+01 8.000e+00 2.000e+01 1.600e+01 8.000e+00 4.000e+00 5.000e-01\n",
      "  1.000e+00 1.599e+03 1.251e+06 1.585e+03 3.117e+06 4.640e+02 2.300e+01\n",
      "  2.000e+01 9.062e+04 1.000e+00]\n",
      " [1.600e+01 8.000e+00 2.000e+01 1.600e+01 8.000e+00 4.000e+00 5.000e-01\n",
      "  5.000e-01 1.595e+03 1.482e+05 2.513e+02 3.840e+05 3.320e+02 1.280e+02\n",
      "  8.000e+00 4.046e+04 1.000e+00]\n",
      " [6.000e+00 4.000e+00 8.000e+00 2.000e+00 2.000e+00 2.000e+00 2.500e-01\n",
      "  1.000e+00 2.617e+03 1.832e+05 2.905e+02 3.486e+05 3.090e+02 1.050e+02\n",
      "  1.000e+01 5.504e+04 1.000e+00]\n",
      " [6.000e+00 4.000e+00 8.000e+00 2.000e+00 2.000e+00 4.000e+00 2.500e-01\n",
      "  5.000e-01 1.692e+03 1.618e+05 2.196e+02 3.938e+05 5.380e+02 0.000e+00\n",
      "  0.000e+00 6.000e+00 1.000e+00]\n",
      " [2.000e+01 1.600e+01 2.400e+01 8.000e+00 1.600e+01 8.000e+00 5.000e-01\n",
      "  1.000e+00 1.503e+03 4.608e+05 6.292e+02 1.089e+06 4.750e+02 5.000e+00\n",
      "  1.100e+01 7.822e+04 1.000e+00]\n",
      " [1.600e+01 8.000e+00 2.000e+01 4.000e+00 8.000e+00 2.000e+00 5.000e-01\n",
      "  1.000e+00 1.977e+03 8.696e+05 1.142e+03 1.726e+06 4.620e+02 4.500e+01\n",
      "  1.800e+01 1.677e+05 1.000e+00]\n",
      " [1.600e+01 8.000e+00 2.000e+01 8.000e+00 8.000e+00 4.000e+00 2.500e-01\n",
      "  1.000e+00 1.930e+03 6.356e+05 8.484e+02 1.335e+06 4.620e+02 6.600e+01\n",
      "  1.800e+01 1.570e+05 1.000e+00]\n",
      " [1.600e+01 8.000e+00 2.000e+01 4.000e+00 8.000e+00 2.000e+00 2.500e-01\n",
      "  1.000e+00 1.830e+03 4.967e+05 7.583e+02 1.082e+06 3.380e+02 3.000e+01\n",
      "  3.800e+01 3.332e+05 1.000e+00]\n",
      " [8.000e+00 6.000e+00 1.600e+01 4.000e+00 8.000e+00 2.000e+00 2.500e-01\n",
      "  1.000e+00 1.534e+03 7.046e+05 1.034e+03 1.251e+06 3.310e+02 2.900e+01\n",
      "  5.600e+01 2.912e+05 1.000e+00]\n",
      " [8.000e+00 6.000e+00 1.600e+01 4.000e+00 8.000e+00 2.000e+00 2.500e-01\n",
      "  2.500e-01 2.918e+03 3.357e+04 5.456e+01 9.077e+04 3.270e+02 0.000e+00\n",
      "  5.000e+00 2.000e+01 1.000e+00]\n",
      " [1.600e+01 8.000e+00 2.000e+01 6.000e+00 8.000e+00 2.000e+00 2.500e-01\n",
      "  1.000e+00 1.531e+03 1.558e+05 2.247e+02 3.614e+05 3.980e+02 3.700e+01\n",
      "  3.000e+00 3.990e+04 1.000e+00]\n",
      " [1.000e+01 8.000e+00 1.600e+01 4.000e+00 8.000e+00 4.000e+00 2.500e-01\n",
      "  1.000e+00 1.093e+03 1.998e+05 2.842e+02 4.578e+05 3.990e+02 4.600e+01\n",
      "  6.000e+00 3.246e+04 1.000e+00]]\n"
     ]
    }
   ],
   "source": [
    "#Treat dataset\n",
    "\n",
    "#Import data \n",
    "data = pd.read_csv('../datasets/consolidated.csv',header=0, index_col=0)\n",
    "consolidated = pd.DataFrame(data)\n",
    "\n",
    "consolidated = consolidated.drop(columns=['identifier', 'n_nodes', 'consensus', 'messageDuplicated'])\n",
    "consolidated = consolidated.rename(columns={'topology':'top'})\n",
    "consolidated['topology'] = 0\n",
    "consolidated.loc[consolidated['top'] == 'general', 'topology'] = 1\n",
    "consolidated = consolidated.drop(columns=['top'])\n",
    "# consolidated.head(100)\n",
    "\n",
    "X = consolidated.to_numpy()\n",
    "print(X)"
   ]
  },
  {
   "cell_type": "code",
   "execution_count": null,
   "id": "2e382670-6231-45a2-a0aa-9b6e0da6631c",
   "metadata": {},
   "outputs": [],
   "source": []
  }
 ],
 "metadata": {
  "kernelspec": {
   "display_name": "Python 3 (ipykernel)",
   "language": "python",
   "name": "python3"
  },
  "language_info": {
   "codemirror_mode": {
    "name": "ipython",
    "version": 3
   },
   "file_extension": ".py",
   "mimetype": "text/x-python",
   "name": "python",
   "nbconvert_exporter": "python",
   "pygments_lexer": "ipython3",
   "version": "3.11.5"
  }
 },
 "nbformat": 4,
 "nbformat_minor": 5
}
