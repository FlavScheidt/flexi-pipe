{
 "cells": [
  {
   "cell_type": "code",
   "execution_count": 1,
   "id": "c98fb263-47e8-436b-b387-8d935d374650",
   "metadata": {},
   "outputs": [],
   "source": [
    "from flightsql import FlightSQLClient\n",
    "import pandas as pd\n",
    "import matplotlib.pyplot as plt\n",
    "import seaborn as sns\n",
    "from influxdb_client import InfluxDBClient\n",
    "from influxdb_client.client.write_api import SYNCHRONOUS\n",
    "\n",
    "import re\n"
   ]
  },
  {
   "cell_type": "code",
   "execution_count": 7,
   "id": "daaaa742-9446-43ff-877c-a40bceaef563",
   "metadata": {
    "jupyter": {
     "source_hidden": true
    }
   },
   "outputs": [],
   "source": [
    "#Read config file and load data into the variables\n",
    "\n",
    "rx_dict = {\n",
    "    'token': re.compile(r'var token = \"(?P<token>.*)\"\\n'),\n",
    "    'url': re.compile(r'var url = \"(?P<url>.*)\"\\n'),\n",
    "    'org': re.compile(r'var org = \"(?P<org>.*)\"\\n'),\n",
    "    'bucket': re.compile(r'var bucket = \"(?P<bucket>.*)\"\\n'),\n",
    "}\n",
    "\n",
    "def _parse_line(line):\n",
    "    \"\"\"\n",
    "    Do a regex search against all defined regexes and\n",
    "    return the key and match result of the first matching regex\n",
    "\n",
    "    \"\"\"\n",
    "    for key, rx in rx_dict.items():\n",
    "        match = rx.search(line)\n",
    "        if match:\n",
    "            return key, match\n",
    "    # if there are no matches\n",
    "    return None, None\n",
    "\n",
    "\n",
    "\n",
    "filepath = '/root/flexi-pipe/config.go'\n",
    "# open the file and read through it line by line\n",
    "with open(filepath, 'r') as file_object:\n",
    "    line = file_object.readline()\n",
    "    while line:\n",
    "        # at each line check for a match with a regex\n",
    "        key, match = _parse_line(line)\n",
    "\n",
    "        if key == 'token':\n",
    "            token = match.group('token')\n",
    "        elif key == 'url':\n",
    "            url = match.group('url')\n",
    "        elif key == 'org':\n",
    "            org = match.group('org')\n",
    "        elif key == 'bucket':\n",
    "            bucket = match.group('bucket')\n",
    "        \n",
    "        line = file_object.readline()\n",
    "\n",
    "\n",
    "url=\"localhost:8086\""
   ]
  },
  {
   "cell_type": "code",
   "execution_count": 11,
   "id": "333c6c82-b47d-43b9-a3f9-1ebcc88ae8ee",
   "metadata": {},
   "outputs": [],
   "source": [
    "query= '''\n",
    "from(bucket: \"gs\")\n",
    "|> range(start:-5m, stop: now())\n",
    "|> filter(fn: (r) => r._measurement == \"experiment\")'''"
   ]
  },
  {
   "cell_type": "code",
   "execution_count": null,
   "id": "5e992f58-dc5f-4a39-b297-2a35847ecde7",
   "metadata": {},
   "outputs": [],
   "source": []
  }
 ],
 "metadata": {
  "kernelspec": {
   "display_name": "Python 3 (ipykernel)",
   "language": "python",
   "name": "python3"
  },
  "language_info": {
   "codemirror_mode": {
    "name": "ipython",
    "version": 3
   },
   "file_extension": ".py",
   "mimetype": "text/x-python",
   "name": "python",
   "nbconvert_exporter": "python",
   "pygments_lexer": "ipython3",
   "version": "3.8.10"
  }
 },
 "nbformat": 4,
 "nbformat_minor": 5
}
